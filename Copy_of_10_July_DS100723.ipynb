{
  "nbformat": 4,
  "nbformat_minor": 0,
  "metadata": {
    "colab": {
      "provenance": [],
      "include_colab_link": true
    },
    "kernelspec": {
      "name": "python3",
      "display_name": "Python 3"
    },
    "language_info": {
      "name": "python"
    }
  },
  "cells": [
    {
      "cell_type": "markdown",
      "metadata": {
        "id": "view-in-github",
        "colab_type": "text"
      },
      "source": [
        "<a href=\"https://colab.research.google.com/github/Surajpanjiyar/Python/blob/main/Copy_of_10_July_DS100723.ipynb\" target=\"_parent\"><img src=\"https://colab.research.google.com/assets/colab-badge.svg\" alt=\"Open In Colab\"/></a>"
      ]
    },
    {
      "cell_type": "code",
      "execution_count": null,
      "metadata": {
        "id": "TriLCfIeL9OU"
      },
      "outputs": [],
      "source": [
        "# TOols:  Framework, IDE,(Mediator)\n",
        "# VS code()\n",
        "# Spyder\n",
        "# Jupyter Notebook    # Car\n",
        "# Pycharm\n",
        "# Google COlab (Google) -- I can share it with any one"
      ]
    },
    {
      "cell_type": "code",
      "source": [],
      "metadata": {
        "id": "WyTGtPF9OIai"
      },
      "execution_count": null,
      "outputs": []
    },
    {
      "cell_type": "markdown",
      "source": [
        "## Data Types (types of data)"
      ],
      "metadata": {
        "id": "8qbLBX4HPF2N"
      }
    },
    {
      "cell_type": "code",
      "source": [
        "# Data Means (Information)"
      ],
      "metadata": {
        "id": "av-5pnuxPdh7"
      },
      "execution_count": null,
      "outputs": []
    },
    {
      "cell_type": "code",
      "source": [
        "# uttam grade, 50, \"MS\", Accenture"
      ],
      "metadata": {
        "id": "AhwxjVdvMDYF"
      },
      "execution_count": null,
      "outputs": []
    },
    {
      "cell_type": "code",
      "source": [
        "# Uttam/India/Delhi/Mumbai -- word/charactors -   ------------ String"
      ],
      "metadata": {
        "id": "fOHALzzSMDaj"
      },
      "execution_count": null,
      "outputs": []
    },
    {
      "cell_type": "code",
      "source": [
        "# Uttam is my name----a,b,c,d ------ string(sentence/word/charactors)"
      ],
      "metadata": {
        "id": "wPK_ErRKMDc9"
      },
      "execution_count": null,
      "outputs": []
    },
    {
      "cell_type": "code",
      "source": [
        "# 100,200,400,4,5, ----- Numbers,/Numberic values(Negative/Positive)"
      ],
      "metadata": {
        "id": "h47TKkGnMDfu"
      },
      "execution_count": null,
      "outputs": []
    },
    {
      "cell_type": "code",
      "source": [
        "# 10.1,40.5 4.5 --- Decimal"
      ],
      "metadata": {
        "id": "wKWGcRtrQ8Wl"
      },
      "execution_count": null,
      "outputs": []
    },
    {
      "cell_type": "code",
      "source": [
        "############ Data Types  ####################################################\n",
        "# 1. String  -------- a,b,cd types of data ----> ''  , \"\"\n",
        "# 2. Integer --------  1,2,3,4,5,6,67,78\n",
        "# 3. Float -************ 1.2,3.0\n",
        "# 4. Boolean ----------- True, False\n",
        "# 5. Complex ---------- a+ib\n",
        "\n",
        "##########################################################################\n",
        "\n",
        "\n",
        "\n",
        "\n",
        "\n",
        "\n",
        "\n",
        "# composite --- array, list,tuple,dict"
      ],
      "metadata": {
        "id": "oWYP6on9MDiR"
      },
      "execution_count": null,
      "outputs": []
    },
    {
      "cell_type": "code",
      "source": [
        "# uttam"
      ],
      "metadata": {
        "id": "u-m9AGGrMDkd"
      },
      "execution_count": null,
      "outputs": []
    },
    {
      "cell_type": "code",
      "source": [
        "########################### Comment, /?\n"
      ],
      "metadata": {
        "id": "ztqe-S44MDnR"
      },
      "execution_count": null,
      "outputs": []
    },
    {
      "cell_type": "code",
      "source": [
        "\"edyoda\""
      ],
      "metadata": {
        "colab": {
          "base_uri": "https://localhost:8080/",
          "height": 35
        },
        "id": "RDtJpVjiMDpg",
        "outputId": "b43324a5-33aa-4233-f6f3-82854b560e10"
      },
      "execution_count": null,
      "outputs": [
        {
          "output_type": "execute_result",
          "data": {
            "text/plain": [
              "'edyoda'"
            ],
            "application/vnd.google.colaboratory.intrinsic+json": {
              "type": "string"
            }
          },
          "metadata": {},
          "execution_count": 5
        }
      ]
    },
    {
      "cell_type": "code",
      "source": [
        "'shreenath'"
      ],
      "metadata": {
        "colab": {
          "base_uri": "https://localhost:8080/",
          "height": 35
        },
        "id": "iz_0j4jAMDse",
        "outputId": "0bcda0ce-c0a0-47ff-904c-63ec115b60f5"
      },
      "execution_count": null,
      "outputs": [
        {
          "output_type": "execute_result",
          "data": {
            "text/plain": [
              "'shreenath'"
            ],
            "application/vnd.google.colaboratory.intrinsic+json": {
              "type": "string"
            }
          },
          "metadata": {},
          "execution_count": 6
        }
      ]
    },
    {
      "cell_type": "code",
      "source": [
        "######### Conversion of data type #####################"
      ],
      "metadata": {
        "id": "TTx2RutHMDvh"
      },
      "execution_count": null,
      "outputs": []
    },
    {
      "cell_type": "code",
      "source": [
        "\"uttam\""
      ],
      "metadata": {
        "colab": {
          "base_uri": "https://localhost:8080/",
          "height": 35
        },
        "id": "53gC89JBUdVR",
        "outputId": "15cb848a-f054-4bd9-93ca-43a1328fd387"
      },
      "execution_count": null,
      "outputs": [
        {
          "output_type": "execute_result",
          "data": {
            "text/plain": [
              "'uttam'"
            ],
            "application/vnd.google.colaboratory.intrinsic+json": {
              "type": "string"
            }
          },
          "metadata": {},
          "execution_count": 7
        }
      ]
    },
    {
      "cell_type": "code",
      "source": [
        "'20'"
      ],
      "metadata": {
        "colab": {
          "base_uri": "https://localhost:8080/",
          "height": 35
        },
        "id": "OwWDjnBjUdXu",
        "outputId": "0d5229c3-34b7-4e43-c6ef-6197ff01028d"
      },
      "execution_count": null,
      "outputs": [
        {
          "output_type": "execute_result",
          "data": {
            "text/plain": [
              "'20'"
            ],
            "application/vnd.google.colaboratory.intrinsic+json": {
              "type": "string"
            }
          },
          "metadata": {},
          "execution_count": 8
        }
      ]
    },
    {
      "cell_type": "code",
      "source": [
        "type(\"20\")"
      ],
      "metadata": {
        "colab": {
          "base_uri": "https://localhost:8080/"
        },
        "id": "hL1J5KB7UdaR",
        "outputId": "d806df26-88a5-4548-ab65-60db8957e821"
      },
      "execution_count": null,
      "outputs": [
        {
          "output_type": "execute_result",
          "data": {
            "text/plain": [
              "str"
            ]
          },
          "metadata": {},
          "execution_count": 9
        }
      ]
    },
    {
      "cell_type": "code",
      "source": [
        "int(20)"
      ],
      "metadata": {
        "colab": {
          "base_uri": "https://localhost:8080/"
        },
        "id": "hNveWUpwUddb",
        "outputId": "83fda3dc-ea40-4217-bc1f-b8e56b7b3776"
      },
      "execution_count": null,
      "outputs": [
        {
          "output_type": "execute_result",
          "data": {
            "text/plain": [
              "20"
            ]
          },
          "metadata": {},
          "execution_count": 12
        }
      ]
    },
    {
      "cell_type": "code",
      "source": [
        "'90'"
      ],
      "metadata": {
        "colab": {
          "base_uri": "https://localhost:8080/",
          "height": 35
        },
        "id": "8VwebfZUUdhO",
        "outputId": "3ca9fdba-5004-4cc9-8ce5-0ea94dbe77e2"
      },
      "execution_count": null,
      "outputs": [
        {
          "output_type": "execute_result",
          "data": {
            "text/plain": [
              "'90'"
            ],
            "application/vnd.google.colaboratory.intrinsic+json": {
              "type": "string"
            }
          },
          "metadata": {},
          "execution_count": 15
        }
      ]
    },
    {
      "cell_type": "code",
      "source": [
        "type(69)"
      ],
      "metadata": {
        "colab": {
          "base_uri": "https://localhost:8080/"
        },
        "id": "_-OP5-OhUdkL",
        "outputId": "3e3ee118-d15a-457e-fb43-54dd467c7305"
      },
      "execution_count": null,
      "outputs": [
        {
          "output_type": "execute_result",
          "data": {
            "text/plain": [
              "int"
            ]
          },
          "metadata": {},
          "execution_count": 17
        }
      ]
    },
    {
      "cell_type": "code",
      "source": [
        "type(56.5)"
      ],
      "metadata": {
        "colab": {
          "base_uri": "https://localhost:8080/"
        },
        "id": "vEu5tE-KUdmk",
        "outputId": "b247d57c-8282-4870-8f78-e0b68f2825f0"
      },
      "execution_count": null,
      "outputs": [
        {
          "output_type": "execute_result",
          "data": {
            "text/plain": [
              "float"
            ]
          },
          "metadata": {},
          "execution_count": 19
        }
      ]
    },
    {
      "cell_type": "code",
      "source": [],
      "metadata": {
        "id": "LUra98qLXLCc"
      },
      "execution_count": null,
      "outputs": []
    },
    {
      "cell_type": "markdown",
      "source": [
        "## Variable Assignment"
      ],
      "metadata": {
        "id": "3vBPU0XYXLtH"
      }
    },
    {
      "cell_type": "code",
      "source": [
        "x = 10\n",
        "y = 20\n",
        "z = x + y\n",
        "\n",
        "print(z)"
      ],
      "metadata": {
        "colab": {
          "base_uri": "https://localhost:8080/"
        },
        "id": "AnZDEw6hUdpp",
        "outputId": "0e466581-44f0-4f76-cebb-904822967763"
      },
      "execution_count": null,
      "outputs": [
        {
          "output_type": "stream",
          "name": "stdout",
          "text": [
            "30\n"
          ]
        }
      ]
    },
    {
      "cell_type": "code",
      "source": [
        "a = type(\"uttam\") # string\n",
        "b = 10 # int\n",
        "\n",
        "c = a + b\n",
        "\n",
        "print(c)"
      ],
      "metadata": {
        "colab": {
          "base_uri": "https://localhost:8080/",
          "height": 235
        },
        "id": "OnaiH2tDUdsi",
        "outputId": "8f4315b1-13d6-4bbe-e369-19742a21c596"
      },
      "execution_count": null,
      "outputs": [
        {
          "output_type": "error",
          "ename": "TypeError",
          "evalue": "ignored",
          "traceback": [
            "\u001b[0;31m---------------------------------------------------------------------------\u001b[0m",
            "\u001b[0;31mTypeError\u001b[0m                                 Traceback (most recent call last)",
            "\u001b[0;32m<ipython-input-25-139f0f11be06>\u001b[0m in \u001b[0;36m<cell line: 4>\u001b[0;34m()\u001b[0m\n\u001b[1;32m      2\u001b[0m \u001b[0mb\u001b[0m \u001b[0;34m=\u001b[0m \u001b[0;36m10\u001b[0m \u001b[0;31m# int\u001b[0m\u001b[0;34m\u001b[0m\u001b[0;34m\u001b[0m\u001b[0m\n\u001b[1;32m      3\u001b[0m \u001b[0;34m\u001b[0m\u001b[0m\n\u001b[0;32m----> 4\u001b[0;31m \u001b[0mc\u001b[0m \u001b[0;34m=\u001b[0m \u001b[0ma\u001b[0m \u001b[0;34m+\u001b[0m \u001b[0mb\u001b[0m\u001b[0;34m\u001b[0m\u001b[0;34m\u001b[0m\u001b[0m\n\u001b[0m\u001b[1;32m      5\u001b[0m \u001b[0;34m\u001b[0m\u001b[0m\n\u001b[1;32m      6\u001b[0m \u001b[0mprint\u001b[0m\u001b[0;34m(\u001b[0m\u001b[0mc\u001b[0m\u001b[0;34m)\u001b[0m\u001b[0;34m\u001b[0m\u001b[0;34m\u001b[0m\u001b[0m\n",
            "\u001b[0;31mTypeError\u001b[0m: unsupported operand type(s) for +: 'type' and 'int'"
          ]
        }
      ]
    },
    {
      "cell_type": "code",
      "source": [
        "int(\"Uttam\")"
      ],
      "metadata": {
        "id": "0cAMWr_kMDyA"
      },
      "execution_count": null,
      "outputs": []
    },
    {
      "cell_type": "code",
      "source": [
        "\n",
        "20 + int('10')"
      ],
      "metadata": {
        "colab": {
          "base_uri": "https://localhost:8080/"
        },
        "id": "kzmNmPCiYllC",
        "outputId": "af80b1a5-3ce7-4886-d543-7df782508da7"
      },
      "execution_count": null,
      "outputs": [
        {
          "output_type": "execute_result",
          "data": {
            "text/plain": [
              "30"
            ]
          },
          "metadata": {},
          "execution_count": 27
        }
      ]
    },
    {
      "cell_type": "code",
      "source": [
        "10.5 + 50.0"
      ],
      "metadata": {
        "colab": {
          "base_uri": "https://localhost:8080/"
        },
        "id": "Vn30lGOIYln4",
        "outputId": "371af22e-e477-4e3e-ec7d-e051596de65a"
      },
      "execution_count": null,
      "outputs": [
        {
          "output_type": "execute_result",
          "data": {
            "text/plain": [
              "60.5"
            ]
          },
          "metadata": {},
          "execution_count": 29
        }
      ]
    },
    {
      "cell_type": "code",
      "source": [
        "a = 40\n",
        "b = 50.7\n",
        "\n",
        "c = a + b\n",
        "\n",
        "c"
      ],
      "metadata": {
        "colab": {
          "base_uri": "https://localhost:8080/"
        },
        "id": "PlKtcMy2Ylqf",
        "outputId": "a52de95f-ad35-47c9-959e-d592222a5f60"
      },
      "execution_count": null,
      "outputs": [
        {
          "output_type": "execute_result",
          "data": {
            "text/plain": [
              "90.7"
            ]
          },
          "metadata": {},
          "execution_count": 30
        }
      ]
    },
    {
      "cell_type": "code",
      "source": [
        "\n",
        "a = 40\n",
        "\n",
        "type(a)"
      ],
      "metadata": {
        "colab": {
          "base_uri": "https://localhost:8080/"
        },
        "id": "Zfq3zljBYlsk",
        "outputId": "776d3658-552f-4eab-d105-8a0852996d59"
      },
      "execution_count": null,
      "outputs": [
        {
          "output_type": "execute_result",
          "data": {
            "text/plain": [
              "int"
            ]
          },
          "metadata": {},
          "execution_count": 31
        }
      ]
    },
    {
      "cell_type": "code",
      "source": [
        "type(\"uttam\")"
      ],
      "metadata": {
        "colab": {
          "base_uri": "https://localhost:8080/"
        },
        "id": "DvJO3aYKYlvT",
        "outputId": "d6287908-8278-47bb-d511-b88a9d099e2d"
      },
      "execution_count": null,
      "outputs": [
        {
          "output_type": "execute_result",
          "data": {
            "text/plain": [
              "str"
            ]
          },
          "metadata": {},
          "execution_count": 36
        }
      ]
    },
    {
      "cell_type": "code",
      "source": [
        "a = 50\n",
        "b = 30\n",
        "\n",
        "a - b"
      ],
      "metadata": {
        "colab": {
          "base_uri": "https://localhost:8080/"
        },
        "id": "opeYE8SYYlyB",
        "outputId": "48e46610-b258-4315-fc93-f1281613fc33"
      },
      "execution_count": null,
      "outputs": [
        {
          "output_type": "execute_result",
          "data": {
            "text/plain": [
              "20"
            ]
          },
          "metadata": {},
          "execution_count": 38
        }
      ]
    },
    {
      "cell_type": "code",
      "source": [
        "# a + ib\n",
        "\n",
        "a = complex(2,3)\n",
        "b = complex(4,5)"
      ],
      "metadata": {
        "id": "oaEr4MnZYl1L"
      },
      "execution_count": null,
      "outputs": []
    },
    {
      "cell_type": "code",
      "source": [
        "a"
      ],
      "metadata": {
        "colab": {
          "base_uri": "https://localhost:8080/"
        },
        "id": "Ik4bBGSJbt8V",
        "outputId": "c9ab7188-eefb-4654-d3b5-6e3624222ac8"
      },
      "execution_count": null,
      "outputs": [
        {
          "output_type": "execute_result",
          "data": {
            "text/plain": [
              "(2+3j)"
            ]
          },
          "metadata": {},
          "execution_count": 42
        }
      ]
    },
    {
      "cell_type": "code",
      "source": [
        "b"
      ],
      "metadata": {
        "colab": {
          "base_uri": "https://localhost:8080/"
        },
        "id": "2yKoN-EHbt_K",
        "outputId": "1f884613-643f-4576-c1c1-11911efc357c"
      },
      "execution_count": null,
      "outputs": [
        {
          "output_type": "execute_result",
          "data": {
            "text/plain": [
              "(4+5j)"
            ]
          },
          "metadata": {},
          "execution_count": 43
        }
      ]
    },
    {
      "cell_type": "code",
      "source": [
        "a + b"
      ],
      "metadata": {
        "colab": {
          "base_uri": "https://localhost:8080/"
        },
        "id": "vqgX_9HMbuCH",
        "outputId": "7c44ea36-992c-489f-8543-94c5c5022697"
      },
      "execution_count": null,
      "outputs": [
        {
          "output_type": "execute_result",
          "data": {
            "text/plain": [
              "(6+8j)"
            ]
          },
          "metadata": {},
          "execution_count": 46
        }
      ]
    },
    {
      "cell_type": "code",
      "source": [],
      "metadata": {
        "id": "BiMlFvY-eIHl"
      },
      "execution_count": null,
      "outputs": []
    },
    {
      "cell_type": "code",
      "source": [
        "# Stack memeory (Temporary)\n",
        "\n",
        "a = 20\n",
        "a = 40\n",
        "a"
      ],
      "metadata": {
        "colab": {
          "base_uri": "https://localhost:8080/"
        },
        "id": "iPkbjwYmeIKK",
        "outputId": "4697bf38-a540-418f-999b-7f28f10ad4c4"
      },
      "execution_count": null,
      "outputs": [
        {
          "output_type": "execute_result",
          "data": {
            "text/plain": [
              "40"
            ]
          },
          "metadata": {},
          "execution_count": 1
        }
      ]
    },
    {
      "cell_type": "code",
      "source": [
        "# Heap\n",
        "# Reference\n",
        "# Allocated and de-allocated\n",
        "n = [1,2,3,5,6,7,8,9,10,11,12,13] # house/villa\n",
        "n"
      ],
      "metadata": {
        "colab": {
          "base_uri": "https://localhost:8080/"
        },
        "id": "s5ILqQnFeINF",
        "outputId": "c73464fa-9c05-443a-d086-2629ffc05aef"
      },
      "execution_count": null,
      "outputs": [
        {
          "output_type": "execute_result",
          "data": {
            "text/plain": [
              "[1, 2, 3, 5, 6, 7, 8, 9, 10, 11, 12, 13]"
            ]
          },
          "metadata": {},
          "execution_count": 8
        }
      ]
    },
    {
      "cell_type": "code",
      "source": [
        "sum(n)"
      ],
      "metadata": {
        "colab": {
          "base_uri": "https://localhost:8080/"
        },
        "id": "wJdha-XOeIQB",
        "outputId": "e5f9ac1e-d1d7-4032-9cb1-fd67d850bd1e"
      },
      "execution_count": null,
      "outputs": [
        {
          "output_type": "execute_result",
          "data": {
            "text/plain": [
              "87"
            ]
          },
          "metadata": {},
          "execution_count": 9
        }
      ]
    },
    {
      "cell_type": "code",
      "source": [],
      "metadata": {
        "id": "_w17e55ReISf"
      },
      "execution_count": null,
      "outputs": []
    },
    {
      "cell_type": "code",
      "source": [
        "# Arithmetic Operators"
      ],
      "metadata": {
        "id": "GiznFPI0eIVL"
      },
      "execution_count": null,
      "outputs": []
    },
    {
      "cell_type": "code",
      "source": [],
      "metadata": {
        "id": "Ox6E4_5VeIX6"
      },
      "execution_count": null,
      "outputs": []
    },
    {
      "cell_type": "code",
      "source": [],
      "metadata": {
        "id": "k_QslIU7eIbL"
      },
      "execution_count": null,
      "outputs": []
    },
    {
      "cell_type": "code",
      "source": [],
      "metadata": {
        "id": "u-IV_vMieId8"
      },
      "execution_count": null,
      "outputs": []
    },
    {
      "cell_type": "code",
      "source": [],
      "metadata": {
        "id": "daxBcI8weIhI"
      },
      "execution_count": null,
      "outputs": []
    },
    {
      "cell_type": "code",
      "source": [],
      "metadata": {
        "id": "ht6OjoQubuGk"
      },
      "execution_count": null,
      "outputs": []
    },
    {
      "cell_type": "code",
      "source": [],
      "metadata": {
        "id": "caYl8s10e3ti"
      },
      "execution_count": null,
      "outputs": []
    },
    {
      "cell_type": "code",
      "source": [],
      "metadata": {
        "id": "wxoCeiGVe3w_"
      },
      "execution_count": null,
      "outputs": []
    },
    {
      "cell_type": "code",
      "source": [],
      "metadata": {
        "id": "WCNTRL3-e3y2"
      },
      "execution_count": null,
      "outputs": []
    },
    {
      "cell_type": "code",
      "source": [],
      "metadata": {
        "id": "7RN4PA5Ye32Q"
      },
      "execution_count": null,
      "outputs": []
    },
    {
      "cell_type": "markdown",
      "source": [
        "## 19_July_2023"
      ],
      "metadata": {
        "id": "QA2dIzaJ2fCH"
      }
    },
    {
      "cell_type": "code",
      "source": [
        "#####################################\n",
        "###### Data Types ##########\n",
        "# Data (Information), age, class, name, last, admission data, place\n",
        "# 1. String -------- (Characters), '', \"\" or str\n",
        "# 2. Integer ---------- 23,45,5, (INT)\n",
        "# 3. Float ----------- 56.3,     (float)\n",
        "# 4. Boolean ---------- True, False (bool)\n",
        "# 5. Complex -------- 2+4i , (Complex)\n",
        "\n",
        "####################################################### Variable Assingment #####################\n",
        "x = 450  # value/ varialbe\n",
        "y = 5\n",
        "z = x + y\n",
        "print(z)\n",
        "\n",
        "########################################## Conversion ######################\n",
        "# Convert one data type in to another data type\n",
        "uttam = \"50\"\n",
        "print(uttam)\n",
        "print(type(uttam))\n",
        "################################3\n",
        "prashant = int(uttam)\n",
        "print(\"Converting string data into Integer---->\", prashant, 'Venkat')\n",
        "\n",
        "##############################################################################\n",
        "shree_12 = \"56.2\"\n",
        "print('type of shree_12', type(shree_12))\n",
        "shree_13 = float(shree_12)\n",
        "print('Checking the tpye of shree_13', type(shree_13), shree_13)\n",
        "################################################################################\n",
        "babit = 'Babit B.Tech'\n",
        "print('Babit output', type(babit))\n",
        "\n",
        "\n",
        "\n",
        "\n",
        "\n",
        "\n",
        "\n",
        "\n",
        "\n",
        "\n",
        "\n",
        "\n",
        "\n",
        "\n",
        "\n",
        "\n",
        "####################### 19 July 2023 ###################################################\n",
        "#################################################################### Object Storage(Memory)-Management ##############################\n",
        "# Everything in Python is Object\n",
        "# Memory(Storage)  ------------------------------> stack(Temporary) / heap(Permanent space)\n",
        "# Stack\n",
        "a = 100 # working like a container\n",
        "\n",
        "# Address (location)/Memory location\n",
        "a = 200\n",
        "print('New value of a --------------> ', a)\n",
        "#### Heap\n",
        "b = [1] * 5\n",
        "print(b)\n",
        "\n",
        "\n",
        "############################################## Opeators #############################\n",
        "# Arithmetic Operators  (+,-,*,/,%,**,//)\n",
        "# Logical Operators     (AND, OR, NOT)\n",
        "# Identity Operators    (is, is not)\n",
        "# Membership Operators   (in, not in)\n",
        "# Comparison Operators    (>,<,>=,<=,==,=!)\n",
        "# Assignment Operators    (=, +=, -=, *=, /=, %=,//=, **=, &=)\n",
        "################################ Arithmetic #########\n",
        "print(10 + 100)\n",
        "print(10 - 100)\n",
        "print(10 * 100)\n",
        "print(10 ** 2) #power\n",
        "print(10/2) # Division (float)\n",
        "print(10//2) # Floor Division ( int)\n",
        "print(10%2) # Modulus\n",
        "\n",
        "################################Logical #########\n",
        "print('*****************   Starting now Logical Opeator   ***********************')\n",
        "x = 50\n",
        "print(x < 60  and x > 30) # both the condition should be tree\n",
        "\n",
        "print(x < 40 or x > 20) # Either any one of them should be true\n",
        "\n",
        "print(not(x < 40)) # NOT(Reverse the value like true -> False)\n",
        "\n",
        "################################ Identity #########\n",
        "print('*****************   Starting now Identity Opeator   ***********************')\n",
        "\n",
        "x = 100\n",
        "y = 200\n",
        "\n",
        "print(x is y) # Check the vlaues are equal or not\n",
        "print(x is not y) # Like a not (Reverse)\n",
        "\n",
        "################################ Membership #########\n",
        "print('*****************   Starting now Membership Opeator   ***********************')\n",
        "\n",
        "a = ['Uttam', 'GT']\n",
        "b = 'Uttam'\n",
        "print(b not in a)\n",
        "\n",
        "################################ Comparision #########\n",
        "print('*****************   Starting now Comparision Opeator   ***********************')\n",
        "a = 50\n",
        "b = 50\n",
        "\n",
        "print(a == b) # Equal\n",
        "print(a > b)\n",
        "print(a < b)\n",
        "\n",
        "print(a != b) # Not equal\n",
        "\n",
        "print(a >= b)\n",
        "\n",
        "print(a <= b)\n",
        "\n",
        "################################ Assignment #########\n",
        "print('*****************   Starting now Assignment Opeator   ***********************')\n",
        "\n",
        "a = 20\n",
        "b = 30\n",
        "c = 50\n",
        "c = c + 10\n",
        "c += 10\n",
        "print(c)\n",
        "\n",
        "d = 100\n",
        "d = d - 10\n",
        "d -= 10\n",
        "print(d)\n",
        "\n",
        "\n",
        "e = 5\n",
        "e = e * 10\n",
        "e *= 10\n",
        "print(e)\n",
        "\n",
        "\n",
        "\n",
        "\n",
        "\n",
        "\n",
        "\n",
        "\n",
        "\n",
        "\n",
        "\n",
        "\n",
        "\n",
        "\n",
        "\n"
      ],
      "metadata": {
        "id": "1BkzUKHVe35V"
      },
      "execution_count": null,
      "outputs": []
    },
    {
      "cell_type": "markdown",
      "source": [
        "## Conditional Statement & Immutability / Mutability (20 July 2023)"
      ],
      "metadata": {
        "id": "eIYgCpZfoY_h"
      }
    },
    {
      "cell_type": "code",
      "source": [
        "# Membership operators\n",
        "# In, not in"
      ],
      "metadata": {
        "id": "S1vGwqDLe38s"
      },
      "execution_count": null,
      "outputs": []
    },
    {
      "cell_type": "code",
      "source": [
        "a = [\"Uttam\", 12, True, False] # list(Container)\n",
        "\n",
        "12 in a"
      ],
      "metadata": {
        "id": "5jHEpk7de3_C",
        "colab": {
          "base_uri": "https://localhost:8080/"
        },
        "outputId": "85d761e7-31af-4ec3-8fef-108e53dce2f4"
      },
      "execution_count": null,
      "outputs": [
        {
          "output_type": "execute_result",
          "data": {
            "text/plain": [
              "True"
            ]
          },
          "metadata": {},
          "execution_count": 1
        }
      ]
    },
    {
      "cell_type": "code",
      "source": [
        "\"uttam\" in a"
      ],
      "metadata": {
        "id": "e7RMids_e4CX",
        "colab": {
          "base_uri": "https://localhost:8080/"
        },
        "outputId": "fe9e8b74-3f18-4613-c239-c7b8aed4533b"
      },
      "execution_count": null,
      "outputs": [
        {
          "output_type": "execute_result",
          "data": {
            "text/plain": [
              "False"
            ]
          },
          "metadata": {},
          "execution_count": 5
        }
      ]
    },
    {
      "cell_type": "code",
      "source": [
        "'Uttam' in a"
      ],
      "metadata": {
        "id": "p4K44xaLe4FV",
        "colab": {
          "base_uri": "https://localhost:8080/"
        },
        "outputId": "139c78ab-52c9-460b-ed6d-891689c367bb"
      },
      "execution_count": null,
      "outputs": [
        {
          "output_type": "execute_result",
          "data": {
            "text/plain": [
              "True"
            ]
          },
          "metadata": {},
          "execution_count": 7
        }
      ]
    },
    {
      "cell_type": "markdown",
      "source": [
        "# Mutables and Immutables"
      ],
      "metadata": {
        "id": "Q6rTa4ZdrH2M"
      }
    },
    {
      "cell_type": "code",
      "source": [
        "# Immutables (Un-Changeable) I cannot, change, modify, edit, add"
      ],
      "metadata": {
        "id": "RW965LB5buKw"
      },
      "execution_count": null,
      "outputs": []
    },
    {
      "cell_type": "code",
      "source": [],
      "metadata": {
        "id": "yYDl-N4Csh0n"
      },
      "execution_count": null,
      "outputs": []
    },
    {
      "cell_type": "code",
      "source": [],
      "metadata": {
        "id": "wpgtjJMJsh3C"
      },
      "execution_count": null,
      "outputs": []
    },
    {
      "cell_type": "code",
      "source": [],
      "metadata": {
        "id": "7P_8hkutsh6H"
      },
      "execution_count": null,
      "outputs": []
    },
    {
      "cell_type": "code",
      "source": [
        "# Mutables (Changeable), I can , change, modify, edit and add"
      ],
      "metadata": {
        "id": "xU4deCwZrBc8"
      },
      "execution_count": null,
      "outputs": []
    },
    {
      "cell_type": "code",
      "source": [
        "counter = 100\n",
        "print(counter)"
      ],
      "metadata": {
        "colab": {
          "base_uri": "https://localhost:8080/"
        },
        "id": "B0hBUozYrBfh",
        "outputId": "c905dc22-156d-420a-a79b-01b805ce017a"
      },
      "execution_count": null,
      "outputs": [
        {
          "output_type": "stream",
          "name": "stdout",
          "text": [
            "100\n"
          ]
        }
      ]
    },
    {
      "cell_type": "code",
      "source": [
        "id(counter)\n"
      ],
      "metadata": {
        "colab": {
          "base_uri": "https://localhost:8080/"
        },
        "id": "JR5gBuVLrBjg",
        "outputId": "8df24ab4-7ce6-420f-91c4-1c049595a5ae"
      },
      "execution_count": null,
      "outputs": [
        {
          "output_type": "execute_result",
          "data": {
            "text/plain": [
              "135013536648528"
            ]
          },
          "metadata": {},
          "execution_count": 9
        }
      ]
    },
    {
      "cell_type": "code",
      "source": [
        "counter = 200\n",
        "print(counter)"
      ],
      "metadata": {
        "colab": {
          "base_uri": "https://localhost:8080/"
        },
        "id": "zx9xrK4urBlf",
        "outputId": "2ee29f16-8e51-4c0e-a650-028fc87d3786"
      },
      "execution_count": null,
      "outputs": [
        {
          "output_type": "stream",
          "name": "stdout",
          "text": [
            "200\n"
          ]
        }
      ]
    },
    {
      "cell_type": "code",
      "source": [
        "id(counter)"
      ],
      "metadata": {
        "colab": {
          "base_uri": "https://localhost:8080/"
        },
        "id": "uMdarQNprBnp",
        "outputId": "439328c8-c96b-410e-e7f3-24c5c7a73878"
      },
      "execution_count": null,
      "outputs": [
        {
          "output_type": "execute_result",
          "data": {
            "text/plain": [
              "135013536651728"
            ]
          },
          "metadata": {},
          "execution_count": 11
        }
      ]
    },
    {
      "cell_type": "code",
      "source": [],
      "metadata": {
        "id": "-aklNeSarBqD"
      },
      "execution_count": null,
      "outputs": []
    },
    {
      "cell_type": "code",
      "source": [
        "rating = [1,2,3]\n",
        "print(rating)\n",
        "id(rating)"
      ],
      "metadata": {
        "colab": {
          "base_uri": "https://localhost:8080/"
        },
        "id": "KGAa0h7IrBs3",
        "outputId": "a4876681-2e5c-466a-b513-d4881596d7fd"
      },
      "execution_count": null,
      "outputs": [
        {
          "output_type": "stream",
          "name": "stdout",
          "text": [
            "[1, 2, 3]\n"
          ]
        },
        {
          "output_type": "execute_result",
          "data": {
            "text/plain": [
              "135013262075712"
            ]
          },
          "metadata": {},
          "execution_count": 16
        }
      ]
    },
    {
      "cell_type": "code",
      "source": [
        "rating.append(4)"
      ],
      "metadata": {
        "id": "BVMhO2ZirBvY"
      },
      "execution_count": null,
      "outputs": []
    },
    {
      "cell_type": "code",
      "source": [
        "rating"
      ],
      "metadata": {
        "colab": {
          "base_uri": "https://localhost:8080/"
        },
        "id": "qkmD17TDrBzC",
        "outputId": "5f025eb2-24f3-4d51-bfcd-42dde70fe2e7"
      },
      "execution_count": null,
      "outputs": [
        {
          "output_type": "execute_result",
          "data": {
            "text/plain": [
              "[1, 2, 3, 4]"
            ]
          },
          "metadata": {},
          "execution_count": 18
        }
      ]
    },
    {
      "cell_type": "code",
      "source": [
        "id(rating)"
      ],
      "metadata": {
        "colab": {
          "base_uri": "https://localhost:8080/"
        },
        "id": "nUDO9r2brB2a",
        "outputId": "03affede-7b50-4472-c3bc-d73212a73144"
      },
      "execution_count": null,
      "outputs": [
        {
          "output_type": "execute_result",
          "data": {
            "text/plain": [
              "135013262075712"
            ]
          },
          "metadata": {},
          "execution_count": 19
        }
      ]
    },
    {
      "cell_type": "code",
      "source": [
        "shree = 500\n",
        "print(shree)\n",
        "id(shree)"
      ],
      "metadata": {
        "colab": {
          "base_uri": "https://localhost:8080/"
        },
        "id": "B9AXzFJUrB6j",
        "outputId": "70d2e40d-46ce-4349-c227-4de06ff78ff5"
      },
      "execution_count": null,
      "outputs": [
        {
          "output_type": "stream",
          "name": "stdout",
          "text": [
            "500\n"
          ]
        },
        {
          "output_type": "execute_result",
          "data": {
            "text/plain": [
              "135012902196752"
            ]
          },
          "metadata": {},
          "execution_count": 20
        }
      ]
    },
    {
      "cell_type": "code",
      "source": [
        "shree = 1000\n",
        "print(shree)\n",
        "id(shree)"
      ],
      "metadata": {
        "colab": {
          "base_uri": "https://localhost:8080/"
        },
        "id": "Nxj78nTluv7s",
        "outputId": "979325a6-fa58-4d9f-84e6-b0199a357a26"
      },
      "execution_count": null,
      "outputs": [
        {
          "output_type": "stream",
          "name": "stdout",
          "text": [
            "1000\n"
          ]
        },
        {
          "output_type": "execute_result",
          "data": {
            "text/plain": [
              "135012902193456"
            ]
          },
          "metadata": {},
          "execution_count": 21
        }
      ]
    },
    {
      "cell_type": "code",
      "source": [
        "dipesh = [True, False, 'Edyoda', 23.4]\n",
        "id(dipesh)"
      ],
      "metadata": {
        "colab": {
          "base_uri": "https://localhost:8080/"
        },
        "id": "g4whCl04uwCA",
        "outputId": "aafb8634-9344-429f-8113-ba23caa34689"
      },
      "execution_count": null,
      "outputs": [
        {
          "output_type": "execute_result",
          "data": {
            "text/plain": [
              "135012910218624"
            ]
          },
          "metadata": {},
          "execution_count": 22
        }
      ]
    },
    {
      "cell_type": "code",
      "source": [
        "dipesh.pop(3) # remove the value"
      ],
      "metadata": {
        "colab": {
          "base_uri": "https://localhost:8080/"
        },
        "id": "oj-8QeXmuwFw",
        "outputId": "64daf719-7c5d-4aea-adf2-553942abbf43"
      },
      "execution_count": null,
      "outputs": [
        {
          "output_type": "execute_result",
          "data": {
            "text/plain": [
              "23.4"
            ]
          },
          "metadata": {},
          "execution_count": 24
        }
      ]
    },
    {
      "cell_type": "code",
      "source": [
        "dipesh"
      ],
      "metadata": {
        "colab": {
          "base_uri": "https://localhost:8080/"
        },
        "id": "iXJPMlr2uwKM",
        "outputId": "5431bc3e-b29e-4198-ce66-179e83569672"
      },
      "execution_count": null,
      "outputs": [
        {
          "output_type": "execute_result",
          "data": {
            "text/plain": [
              "[True, False, 'Edyoda']"
            ]
          },
          "metadata": {},
          "execution_count": 25
        }
      ]
    },
    {
      "cell_type": "code",
      "source": [
        "id(dipesh)"
      ],
      "metadata": {
        "colab": {
          "base_uri": "https://localhost:8080/"
        },
        "id": "bE6lMaHmuwOS",
        "outputId": "e1ae1ed3-3374-4b02-ce90-9003b57a78f8"
      },
      "execution_count": null,
      "outputs": [
        {
          "output_type": "execute_result",
          "data": {
            "text/plain": [
              "135012910218624"
            ]
          },
          "metadata": {},
          "execution_count": 26
        }
      ]
    },
    {
      "cell_type": "code",
      "source": [
        "# Immutable ( which you cannot change)\n",
        "# mutable ( which you can change(add, remove))"
      ],
      "metadata": {
        "id": "XFmpUN4huwRk"
      },
      "execution_count": null,
      "outputs": []
    },
    {
      "cell_type": "code",
      "source": [
        "# Data Structure\n",
        "# List (who stores  the differnect type of data(string, int, float , bool))\n",
        "# [], list()"
      ],
      "metadata": {
        "id": "16QPCjbAuwT3"
      },
      "execution_count": null,
      "outputs": []
    },
    {
      "cell_type": "code",
      "source": [],
      "metadata": {
        "id": "enrgtB8duwXE"
      },
      "execution_count": null,
      "outputs": []
    },
    {
      "cell_type": "code",
      "source": [],
      "metadata": {
        "id": "8-nhb6SLuwbK"
      },
      "execution_count": null,
      "outputs": []
    },
    {
      "cell_type": "markdown",
      "source": [
        "## Conditional Statements(If -else)"
      ],
      "metadata": {
        "id": "QxXQKpBOxeQx"
      }
    },
    {
      "cell_type": "code",
      "source": [
        "# It's just like real world"
      ],
      "metadata": {
        "id": "5ViSh0bFuwhi"
      },
      "execution_count": null,
      "outputs": []
    },
    {
      "cell_type": "code",
      "source": [
        "mayur = 89\n",
        "\n",
        "if mayur > 90:\n",
        "  print('Purchase a Hayabusa')\n",
        "\n",
        "else:\n",
        "  print('Buy a cycle')"
      ],
      "metadata": {
        "colab": {
          "base_uri": "https://localhost:8080/"
        },
        "id": "4WLGyDNBuwp4",
        "outputId": "491b48cf-7749-4e2e-dc46-87a39fd6037e"
      },
      "execution_count": null,
      "outputs": [
        {
          "output_type": "stream",
          "name": "stdout",
          "text": [
            "Buy a cycle\n"
          ]
        }
      ]
    },
    {
      "cell_type": "code",
      "source": [
        "shree = 13\n",
        "\n",
        "if shree > 10:\n",
        "  print('He will go to haridwar')\n",
        "\n",
        "else:\n",
        "  print('Goa')"
      ],
      "metadata": {
        "colab": {
          "base_uri": "https://localhost:8080/"
        },
        "id": "2YsXa4uXuwxZ",
        "outputId": "94b4867f-93d9-44d7-9882-808cbf1159ab"
      },
      "execution_count": null,
      "outputs": [
        {
          "output_type": "stream",
          "name": "stdout",
          "text": [
            "He will go to haridwar\n"
          ]
        }
      ]
    },
    {
      "cell_type": "code",
      "source": [
        "company = 45 # you got\n",
        "\n",
        "if company > 50:  # condition\n",
        "  print('I will go to amsterdam for bachlors')\n",
        "\n",
        "else:\n",
        "  print('Goa')"
      ],
      "metadata": {
        "colab": {
          "base_uri": "https://localhost:8080/"
        },
        "id": "Vp9AbabjrB-u",
        "outputId": "f43119fd-a5d7-4e3e-e10c-45d7bcd80d0f"
      },
      "execution_count": null,
      "outputs": [
        {
          "output_type": "stream",
          "name": "stdout",
          "text": [
            "Goa\n"
          ]
        }
      ]
    },
    {
      "cell_type": "code",
      "source": [
        "# to ask the input from the user we can use input()"
      ],
      "metadata": {
        "id": "-XBFMuxCrCEF"
      },
      "execution_count": null,
      "outputs": []
    },
    {
      "cell_type": "code",
      "source": [
        "a = input('Enter your PIN ----> ')\n",
        "a"
      ],
      "metadata": {
        "id": "H8nNRhtnYl3P",
        "colab": {
          "base_uri": "https://localhost:8080/",
          "height": 55
        },
        "outputId": "dac14133-6542-4039-f796-c80b71285d1c"
      },
      "execution_count": null,
      "outputs": [
        {
          "name": "stdout",
          "output_type": "stream",
          "text": [
            "Enter your PIN ----> Uttam\n"
          ]
        },
        {
          "output_type": "execute_result",
          "data": {
            "text/plain": [
              "'Uttam'"
            ],
            "application/vnd.google.colaboratory.intrinsic+json": {
              "type": "string"
            }
          },
          "metadata": {},
          "execution_count": 31
        }
      ]
    },
    {
      "cell_type": "code",
      "source": [
        "b = input('Please Enter your Name =========>')\n",
        "\n",
        "if b == 'Jathin':\n",
        "  print('Welcome Jathin!')\n",
        "\n",
        "else:\n",
        "  print('Wronng User Call the cops!')"
      ],
      "metadata": {
        "id": "BmtdMtMRMD1A",
        "colab": {
          "base_uri": "https://localhost:8080/"
        },
        "outputId": "9b810fe4-88f7-4a9d-e162-a2a75b9d8774"
      },
      "execution_count": null,
      "outputs": [
        {
          "output_type": "stream",
          "name": "stdout",
          "text": [
            "Please Enter your Name =========>Jathin\n",
            "Welcome Jathin!\n"
          ]
        }
      ]
    },
    {
      "cell_type": "code",
      "source": [
        "a = input('Please Enter your Pin -->')\n",
        "\n",
        "if a == '1234': # Step 1 (pass the condition)\n",
        "  print('How much money you want to withdraw!') #step 2 if condition gets True, this line will run(Pass)\n",
        "\n",
        "else: #Step 3- if condition gets false, this line will run\n",
        "  print('Please Enter Correct PIN!')"
      ],
      "metadata": {
        "colab": {
          "base_uri": "https://localhost:8080/"
        },
        "id": "jJ5E6rde33kJ",
        "outputId": "61594507-aa65-4348-8ecd-ca28504d00b9"
      },
      "execution_count": null,
      "outputs": [
        {
          "output_type": "stream",
          "name": "stdout",
          "text": [
            "Please Enter your Pin -->1235\n",
            "Please Enter Correct PIN!\n"
          ]
        }
      ]
    },
    {
      "cell_type": "code",
      "source": [
        "# MOre than two conditions\n",
        "\n",
        "roll_no = input('Mam plese tell me your Roll NO--->')\n",
        "\n",
        "if roll_no == '12345':\n",
        "  print('Your Marks is 90%')\n",
        "\n",
        "elif roll_no == '123456':\n",
        "  print('Your makrs is 95%')\n",
        "\n",
        "elif roll_no == '123456789':\n",
        "  print('Your marks is 98%')\n",
        "\n",
        "else:\n",
        "  print('Mam sorry your result didnt declare till now!!')\n",
        "\n",
        "\n"
      ],
      "metadata": {
        "colab": {
          "base_uri": "https://localhost:8080/"
        },
        "id": "3nwDb85m33pI",
        "outputId": "5d714393-06a7-448b-e0a7-5dfc014a94c3"
      },
      "execution_count": null,
      "outputs": [
        {
          "output_type": "stream",
          "name": "stdout",
          "text": [
            "Mam plese tell me your Roll NO--->3648759609\n",
            "Mam sorry your result didnt declare till now!!\n"
          ]
        }
      ]
    },
    {
      "cell_type": "code",
      "source": [
        "# Tell me 20 is Even or ODD"
      ],
      "metadata": {
        "id": "FjNbnW6e33yR"
      },
      "execution_count": null,
      "outputs": []
    },
    {
      "cell_type": "code",
      "source": [
        "a  =20\n",
        "if a % 2==0:\n",
        "  print(\"even\")\n",
        "else:\n",
        "  print('ODD')"
      ],
      "metadata": {
        "colab": {
          "base_uri": "https://localhost:8080/"
        },
        "id": "Efe531uQ337G",
        "outputId": "f4ce1cff-8189-4c04-e82f-2abc983ab77d"
      },
      "execution_count": null,
      "outputs": [
        {
          "output_type": "stream",
          "name": "stdout",
          "text": [
            "even\n"
          ]
        }
      ]
    },
    {
      "cell_type": "code",
      "source": [
        "20%2"
      ],
      "metadata": {
        "colab": {
          "base_uri": "https://localhost:8080/"
        },
        "id": "GBQA7Wjk34A5",
        "outputId": "3cd019cf-cc18-479b-919d-fd9ef7dbafa0"
      },
      "execution_count": null,
      "outputs": [
        {
          "output_type": "execute_result",
          "data": {
            "text/plain": [
              "0"
            ]
          },
          "metadata": {},
          "execution_count": 37
        }
      ]
    },
    {
      "cell_type": "code",
      "source": [],
      "metadata": {
        "id": "eIZFsgK234Gr"
      },
      "execution_count": null,
      "outputs": []
    },
    {
      "cell_type": "markdown",
      "source": [
        "## 21_July_2023 (Doubt Session)\n"
      ],
      "metadata": {
        "id": "teksnJp5teYF"
      }
    },
    {
      "cell_type": "code",
      "source": [
        "# ######################## Data Strutures ###########################\n",
        "## List, (list if a data structure, who stores the data inside it(string, int,float, bool))\n",
        "# TUple\n",
        "# Dictionary\n",
        "# Set"
      ],
      "metadata": {
        "id": "YzcCgaQntOxb"
      },
      "execution_count": null,
      "outputs": []
    },
    {
      "cell_type": "code",
      "source": [
        "# INPUT  (take the input from the user!!)\n",
        "\n",
        "a = input('Enter your Name--->')\n",
        "\n",
        "if a == 'Uttam':\n",
        "  print('Welcome uttam')\n",
        "else:\n",
        "  print('Call the cops!')"
      ],
      "metadata": {
        "colab": {
          "base_uri": "https://localhost:8080/"
        },
        "id": "Gpcc0JPktO2J",
        "outputId": "d7abd2d7-4122-466b-ae4a-cf4749548319"
      },
      "execution_count": null,
      "outputs": [
        {
          "output_type": "stream",
          "name": "stdout",
          "text": [
            "Enter your Name--->Uttam\n",
            "Welcome uttam\n"
          ]
        }
      ]
    },
    {
      "cell_type": "code",
      "source": [
        "a = int(input('Enter your Password--->'))\n",
        "\n",
        "if a == 'edyoda$00':\n",
        "  print('Welcome uttam, how much money you want!!')\n",
        "else:\n",
        "  print('Call the cops!')"
      ],
      "metadata": {
        "colab": {
          "base_uri": "https://localhost:8080/"
        },
        "id": "aeo7s6Y7tO5J",
        "outputId": "1e3346c8-90b5-4687-de4f-f3ac22875718"
      },
      "execution_count": null,
      "outputs": [
        {
          "output_type": "stream",
          "name": "stdout",
          "text": [
            "Enter your Password--->edyoda$00\n",
            "Welcome uttam, how much money you want!!\n"
          ]
        }
      ]
    },
    {
      "cell_type": "code",
      "source": [
        "'1234' == 1234"
      ],
      "metadata": {
        "colab": {
          "base_uri": "https://localhost:8080/"
        },
        "id": "fl3gSDlWtO8s",
        "outputId": "c9d94f81-f8b0-4451-9bf7-89021ed0cc27"
      },
      "execution_count": null,
      "outputs": [
        {
          "output_type": "execute_result",
          "data": {
            "text/plain": [
              "False"
            ]
          },
          "metadata": {},
          "execution_count": 6
        }
      ]
    },
    {
      "cell_type": "code",
      "source": [
        "###########  NEW thing  ###############\n",
        "# input function with INT()\n",
        "#"
      ],
      "metadata": {
        "id": "osT50RibxV4r"
      },
      "execution_count": null,
      "outputs": []
    },
    {
      "cell_type": "code",
      "source": [
        "b = int(input('Please enter your Marks---->'))\n",
        "\n",
        "if b == 35:\n",
        "  print('You got 3rd Rank')\n",
        "\n",
        "elif 50 > b > 35:\n",
        "  print('You got 2nd Rank')\n",
        "\n",
        "elif 70 >  b >=50:\n",
        "  print('you closed to 1 rank')\n",
        "\n",
        "elif 90 > b > 70:\n",
        "  print(\"You got 1 rank but not distinciton\")\n",
        "\n",
        "else:\n",
        "  print(\"You Top the Colege\")\n"
      ],
      "metadata": {
        "colab": {
          "base_uri": "https://localhost:8080/"
        },
        "id": "BpPSI3G6xV7M",
        "outputId": "bab81b2c-0a8c-4db6-ac59-89acfe0a848f"
      },
      "execution_count": null,
      "outputs": [
        {
          "output_type": "stream",
          "name": "stdout",
          "text": [
            "Please enter your Marks---->78\n",
            "You got 1 rank but not distinciton\n"
          ]
        }
      ]
    },
    {
      "cell_type": "code",
      "source": [
        "speed = int(input(\"Enter the speed--->\"))\n",
        "\n",
        "if 20 > speed > 10:\n",
        "  print('25 KMPL Mileage')\n",
        "\n",
        "elif 40 > speed >20:\n",
        "  print('21 KMPL Mileage')\n",
        "\n",
        "elif 80 > speed > 40:\n",
        "  print('18 KMPL')\n",
        "\n",
        "else:\n",
        "  print('Warining Slow down the Car!!')"
      ],
      "metadata": {
        "colab": {
          "base_uri": "https://localhost:8080/"
        },
        "id": "Zelb3xIFxV-M",
        "outputId": "1f900c9d-b384-480a-a831-3b8dff473bc5"
      },
      "execution_count": null,
      "outputs": [
        {
          "output_type": "stream",
          "name": "stdout",
          "text": [
            "Enter the speed--->120\n",
            "Warining Slow down the Car!!\n"
          ]
        }
      ]
    },
    {
      "cell_type": "code",
      "source": [
        "> SPEED # LESS THAN\n",
        "SPEED < # LEES THAN"
      ],
      "metadata": {
        "id": "2F01dqUlxWBp"
      },
      "execution_count": null,
      "outputs": []
    },
    {
      "cell_type": "code",
      "source": [
        "10 > 20"
      ],
      "metadata": {
        "colab": {
          "base_uri": "https://localhost:8080/"
        },
        "id": "Xe9Rpn6ZtO_b",
        "outputId": "7a0eab8c-7701-4937-9268-bdb87f3dc934"
      },
      "execution_count": null,
      "outputs": [
        {
          "output_type": "execute_result",
          "data": {
            "text/plain": [
              "False"
            ]
          },
          "metadata": {},
          "execution_count": 11
        }
      ]
    },
    {
      "cell_type": "code",
      "source": [
        "100 < 150"
      ],
      "metadata": {
        "colab": {
          "base_uri": "https://localhost:8080/"
        },
        "id": "-mllXY6RtPCe",
        "outputId": "b7fbc2e2-64c2-416d-a244-466ebee432cd"
      },
      "execution_count": null,
      "outputs": [
        {
          "output_type": "execute_result",
          "data": {
            "text/plain": [
              "True"
            ]
          },
          "metadata": {},
          "execution_count": 12
        }
      ]
    },
    {
      "cell_type": "code",
      "source": [
        "5 < 10"
      ],
      "metadata": {
        "colab": {
          "base_uri": "https://localhost:8080/"
        },
        "id": "jK4z8RTutPEw",
        "outputId": "5aea3a35-03a5-451d-db0c-710e8dc0178a"
      },
      "execution_count": null,
      "outputs": [
        {
          "output_type": "execute_result",
          "data": {
            "text/plain": [
              "True"
            ]
          },
          "metadata": {},
          "execution_count": 13
        }
      ]
    },
    {
      "cell_type": "code",
      "source": [
        "50 > 40"
      ],
      "metadata": {
        "colab": {
          "base_uri": "https://localhost:8080/"
        },
        "id": "UsYTeuaHtPHF",
        "outputId": "bb43057b-144f-42af-cfbb-878adbdc3bf3"
      },
      "execution_count": null,
      "outputs": [
        {
          "output_type": "execute_result",
          "data": {
            "text/plain": [
              "True"
            ]
          },
          "metadata": {},
          "execution_count": 14
        }
      ]
    },
    {
      "cell_type": "code",
      "source": [
        "100 < 30"
      ],
      "metadata": {
        "colab": {
          "base_uri": "https://localhost:8080/"
        },
        "id": "Q_hsPnjTtPJr",
        "outputId": "261d1f01-c9ee-49d0-c651-1f9b135ba59c"
      },
      "execution_count": null,
      "outputs": [
        {
          "output_type": "execute_result",
          "data": {
            "text/plain": [
              "False"
            ]
          },
          "metadata": {},
          "execution_count": 15
        }
      ]
    },
    {
      "cell_type": "code",
      "source": [
        "45>65"
      ],
      "metadata": {
        "colab": {
          "base_uri": "https://localhost:8080/"
        },
        "id": "dqHQhpgytPMY",
        "outputId": "9a5f918d-5ba6-401c-b221-826e4213b97d"
      },
      "execution_count": null,
      "outputs": [
        {
          "output_type": "execute_result",
          "data": {
            "text/plain": [
              "False"
            ]
          },
          "metadata": {},
          "execution_count": 16
        }
      ]
    },
    {
      "cell_type": "markdown",
      "source": [
        "## 24_July_2023"
      ],
      "metadata": {
        "id": "KahFRVUDPoxq"
      }
    },
    {
      "cell_type": "code",
      "source": [
        "## Loops ##########"
      ],
      "metadata": {
        "id": "zep-_tCOPnXr"
      },
      "execution_count": null,
      "outputs": []
    },
    {
      "cell_type": "code",
      "source": [
        "# Condition Statements\n",
        "# if else,\n",
        "# if, elif, else"
      ],
      "metadata": {
        "id": "KErNipk3PnaB"
      },
      "execution_count": null,
      "outputs": []
    },
    {
      "cell_type": "code",
      "source": [
        "################################# Loops  ###################  # perform a task multiple times, continuation, repeating,\n",
        "# For (finite loop) ----> 10,100,50, etc---->\n",
        "# While (infinte loop)  ---> it will never stop if  it need to stop a condition"
      ],
      "metadata": {
        "id": "-koZXp4ZPndL"
      },
      "execution_count": null,
      "outputs": []
    },
    {
      "cell_type": "code",
      "source": [
        "[1,2,3,4,...............100]"
      ],
      "metadata": {
        "id": "ynO1M82ZPnfq"
      },
      "execution_count": null,
      "outputs": []
    },
    {
      "cell_type": "code",
      "source": [
        "list(range(1,21))"
      ],
      "metadata": {
        "colab": {
          "base_uri": "https://localhost:8080/"
        },
        "id": "4DZwMROPPniZ",
        "outputId": "928b45b9-e260-4419-dbdd-e57a08df15ce"
      },
      "execution_count": null,
      "outputs": [
        {
          "output_type": "execute_result",
          "data": {
            "text/plain": [
              "[1, 2, 3, 4, 5, 6, 7, 8, 9, 10, 11, 12, 13, 14, 15, 16, 17, 18, 19, 20]"
            ]
          },
          "metadata": {},
          "execution_count": 5
        }
      ]
    },
    {
      "cell_type": "code",
      "source": [
        "for i in range(1,10):\n",
        "  print(i, end = '  ')"
      ],
      "metadata": {
        "colab": {
          "base_uri": "https://localhost:8080/"
        },
        "id": "3Vtj5ZhsPnkk",
        "outputId": "c28b0e1a-b077-43e6-d18f-8b8966845638"
      },
      "execution_count": null,
      "outputs": [
        {
          "output_type": "stream",
          "name": "stdout",
          "text": [
            "1  2  3  4  5  6  7  8  9  "
          ]
        }
      ]
    },
    {
      "cell_type": "code",
      "source": [
        "for p in 'PoojaGaud':\n",
        "  print(p, end = ' ')"
      ],
      "metadata": {
        "colab": {
          "base_uri": "https://localhost:8080/"
        },
        "id": "12uUT94hPnmy",
        "outputId": "19149803-3cb4-4c07-e43c-f85edbae9e22"
      },
      "execution_count": null,
      "outputs": [
        {
          "output_type": "stream",
          "name": "stdout",
          "text": [
            "P o o j a G a u d "
          ]
        }
      ]
    },
    {
      "cell_type": "code",
      "source": [
        "# Calculate the sum of all numbers from 1 to a 20\n",
        "# 1+2+3..........----> 300"
      ],
      "metadata": {
        "id": "xdtO5yQ3Pnpg"
      },
      "execution_count": null,
      "outputs": []
    },
    {
      "cell_type": "code",
      "source": [
        "g = 16\n",
        "for i in range(1,21):\n",
        "    #g = g + i # Adding a previous of g with the newer value of i\n",
        "    g = 10 + 6"
      ],
      "metadata": {
        "id": "VuCE5kdAPnsF"
      },
      "execution_count": null,
      "outputs": []
    },
    {
      "cell_type": "code",
      "source": [
        "g"
      ],
      "metadata": {
        "colab": {
          "base_uri": "https://localhost:8080/"
        },
        "id": "J_kbMi4NPnu3",
        "outputId": "d9f60dfb-1376-4f8d-915b-300d5328dd7c"
      },
      "execution_count": null,
      "outputs": [
        {
          "output_type": "execute_result",
          "data": {
            "text/plain": [
              "210"
            ]
          },
          "metadata": {},
          "execution_count": 18
        }
      ]
    },
    {
      "cell_type": "code",
      "source": [
        "# Write a program to print multiplication table of a number 2\n",
        "# table of 2"
      ],
      "metadata": {
        "id": "TGqfO8S8PnyT"
      },
      "execution_count": null,
      "outputs": []
    },
    {
      "cell_type": "code",
      "source": [
        "for i in range (1,11):\n",
        "  print(i * 2)"
      ],
      "metadata": {
        "colab": {
          "base_uri": "https://localhost:8080/"
        },
        "id": "FnW-QK1XPn0T",
        "outputId": "c45be71f-21fb-4397-e25c-87744857b25e"
      },
      "execution_count": null,
      "outputs": [
        {
          "output_type": "stream",
          "name": "stdout",
          "text": [
            "2\n",
            "4\n",
            "6\n",
            "8\n",
            "10\n",
            "12\n",
            "14\n",
            "16\n",
            "18\n",
            "20\n"
          ]
        }
      ]
    },
    {
      "cell_type": "code",
      "source": [
        "#   Display numbers from -10 to -1 using for loop"
      ],
      "metadata": {
        "id": "3yrO46Q5Pn4j"
      },
      "execution_count": null,
      "outputs": []
    },
    {
      "cell_type": "code",
      "source": [
        "for i in range(-10,0):\n",
        "    print(i)"
      ],
      "metadata": {
        "colab": {
          "base_uri": "https://localhost:8080/"
        },
        "id": "kNRDrBmnPn6Y",
        "outputId": "5027a70a-77e2-4443-af0d-cfa334f75d35"
      },
      "execution_count": null,
      "outputs": [
        {
          "output_type": "stream",
          "name": "stdout",
          "text": [
            "-10\n",
            "-9\n",
            "-8\n",
            "-7\n",
            "-6\n",
            "-5\n",
            "-4\n",
            "-3\n",
            "-2\n",
            "-1\n"
          ]
        }
      ]
    },
    {
      "cell_type": "code",
      "source": [
        "# Use else block (if-else) to display a message “Done” after successful execution of for loop (5 times)"
      ],
      "metadata": {
        "id": "aiUsaxhsPn8f"
      },
      "execution_count": null,
      "outputs": []
    },
    {
      "cell_type": "code",
      "source": [
        "for i in range(-10, 0):\n",
        "    print(i)\n",
        "print('Uttam')"
      ],
      "metadata": {
        "colab": {
          "base_uri": "https://localhost:8080/"
        },
        "id": "bO8EkZF9Pn-n",
        "outputId": "a6ae7141-9567-4f10-d2b9-a63979545a4e"
      },
      "execution_count": null,
      "outputs": [
        {
          "output_type": "stream",
          "name": "stdout",
          "text": [
            "-10\n",
            "-9\n",
            "-8\n",
            "-7\n",
            "-6\n",
            "-5\n",
            "-4\n",
            "-3\n",
            "-2\n",
            "-1\n",
            "Uttam\n"
          ]
        }
      ]
    },
    {
      "cell_type": "code",
      "source": [
        "for i in range (-10, 0): # range(2,10)\n",
        "  print(i)\n",
        "\n",
        "  if i == 5:\n",
        "    print(\"false\")\n",
        "  else:\n",
        "    print(\"Done\")"
      ],
      "metadata": {
        "colab": {
          "base_uri": "https://localhost:8080/"
        },
        "id": "RpXMwll6jdwy",
        "outputId": "9fc3a6e2-58af-46fe-8419-3d24fa6cd84b"
      },
      "execution_count": null,
      "outputs": [
        {
          "output_type": "stream",
          "name": "stdout",
          "text": [
            "-10\n",
            "Done\n",
            "-9\n",
            "Done\n",
            "-8\n",
            "Done\n",
            "-7\n",
            "Done\n",
            "-6\n",
            "Done\n",
            "-5\n",
            "Done\n",
            "-4\n",
            "Done\n",
            "-3\n",
            "Done\n",
            "-2\n",
            "Done\n",
            "-1\n",
            "Done\n"
          ]
        }
      ]
    },
    {
      "cell_type": "code",
      "source": [
        "# Write a program to display all prime numbers within a range of 100"
      ],
      "metadata": {
        "id": "xF1w0uX7PoAs"
      },
      "execution_count": null,
      "outputs": []
    },
    {
      "cell_type": "code",
      "source": [
        "# Display Fibonacci series up to 10 terms\n",
        "# Fibonacci sequence:\n",
        "# 0  1  1  2  3  5  8  13  21  34"
      ],
      "metadata": {
        "id": "--Qzu-8ZPoGR"
      },
      "execution_count": null,
      "outputs": []
    },
    {
      "cell_type": "markdown",
      "source": [
        "## 25_July_2023"
      ],
      "metadata": {
        "id": "QHBET1jeY1Fo"
      }
    },
    {
      "cell_type": "code",
      "source": [
        "a = 0\n",
        "b = 1\n",
        "\n",
        "for i in range(11):\n",
        "  print(a, end = ' ')\n",
        "\n",
        "  c = a + b\n",
        "\n",
        "  a = b\n",
        "  b = c\n",
        "\n",
        "\n"
      ],
      "metadata": {
        "colab": {
          "base_uri": "https://localhost:8080/"
        },
        "id": "sa-MGk3WYLJw",
        "outputId": "bd28ecf0-e594-4753-ad21-296150c7cf44"
      },
      "execution_count": null,
      "outputs": [
        {
          "output_type": "stream",
          "name": "stdout",
          "text": [
            "0 1 1 2 3 5 8 13 21 34 55 "
          ]
        }
      ]
    },
    {
      "cell_type": "code",
      "source": [
        "a = 0\n",
        "b = 1\n",
        "c = a+b\n",
        "a = b\n",
        "b = c\n",
        "for i in range(11):\n",
        " print(a, end = ' ')"
      ],
      "metadata": {
        "colab": {
          "base_uri": "https://localhost:8080/"
        },
        "id": "vT1uIzj7YLMu",
        "outputId": "87b69c12-3ec2-45ae-f1d3-469406e27141"
      },
      "execution_count": null,
      "outputs": [
        {
          "output_type": "stream",
          "name": "stdout",
          "text": [
            "1 1 1 1 1 1 1 1 1 1 1 "
          ]
        }
      ]
    },
    {
      "cell_type": "code",
      "source": [
        "# While Loop (Infinite Loop)\n",
        "\n",
        "age = 32\n",
        "\n",
        "while age > 18:\n",
        "  print('YOu can Vote')\n",
        "  age = age - 1\n",
        "else:\n",
        "  print('You cannot vote')"
      ],
      "metadata": {
        "colab": {
          "base_uri": "https://localhost:8080/"
        },
        "id": "d9531F2vYLRi",
        "outputId": "c735e55a-473a-495a-873a-a13881756bfa"
      },
      "execution_count": null,
      "outputs": [
        {
          "output_type": "stream",
          "name": "stdout",
          "text": [
            "YOu can Vote\n",
            "YOu can Vote\n",
            "YOu can Vote\n",
            "YOu can Vote\n",
            "YOu can Vote\n",
            "YOu can Vote\n",
            "YOu can Vote\n",
            "YOu can Vote\n",
            "YOu can Vote\n",
            "YOu can Vote\n",
            "YOu can Vote\n",
            "YOu can Vote\n",
            "YOu can Vote\n",
            "YOu can Vote\n",
            "You cannot vote\n"
          ]
        }
      ]
    },
    {
      "cell_type": "code",
      "source": [
        "# Find the factorial of a 5"
      ],
      "metadata": {
        "id": "5yCwepHHYLVA"
      },
      "execution_count": null,
      "outputs": []
    },
    {
      "cell_type": "code",
      "source": [
        "# Calculate the cube of all numbers from 1 to a 10"
      ],
      "metadata": {
        "id": "bFWJnocyYLYW"
      },
      "execution_count": null,
      "outputs": []
    },
    {
      "cell_type": "code",
      "source": [
        "# *\n",
        "# * *\n",
        "# * * *\n",
        "# * * * *\n",
        "# * * * * *\n",
        "# * * * *\n",
        "# * * *\n",
        "# * *\n",
        "# *"
      ],
      "metadata": {
        "colab": {
          "base_uri": "https://localhost:8080/"
        },
        "id": "cJM6x6hCYLbD",
        "outputId": "7bea4401-0e51-4400-9e47-f4614af5c4cb"
      },
      "execution_count": null,
      "outputs": [
        {
          "output_type": "stream",
          "name": "stdout",
          "text": [
            "5\n",
            "10\n",
            "30\n",
            "120\n",
            "600\n"
          ]
        }
      ]
    },
    {
      "cell_type": "code",
      "source": [
        "for i in range(1,6,1):\n",
        "    for j in range(i):\n",
        "        print('*',end=' ')\n",
        "    print()\n",
        "for m in range(4,0,-1):\n",
        "    for n in range(m):\n",
        "        print('*',end=' ')\n",
        "    print()"
      ],
      "metadata": {
        "colab": {
          "base_uri": "https://localhost:8080/"
        },
        "id": "CvQ0bh5EYLmE",
        "outputId": "3c62b48f-a165-4091-b332-d54bc5b4e3e3"
      },
      "execution_count": null,
      "outputs": [
        {
          "output_type": "stream",
          "name": "stdout",
          "text": [
            "* \n",
            "* * \n",
            "* * * \n",
            "* * * * \n",
            "* * * * * \n",
            "* * * * \n",
            "* * * \n",
            "* * \n",
            "* \n"
          ]
        }
      ]
    },
    {
      "cell_type": "code",
      "source": [
        "        # * * * * * *\n",
        "        #  * * * * *\n",
        "        #   * * * *\n",
        "        #    * * *\n",
        "        #     * *\n",
        "        #      *"
      ],
      "metadata": {
        "id": "FPpnmNE2YLp3"
      },
      "execution_count": null,
      "outputs": []
    },
    {
      "cell_type": "code",
      "source": [
        "list(range(1,10,1))"
      ],
      "metadata": {
        "colab": {
          "base_uri": "https://localhost:8080/"
        },
        "id": "WP4kXCoPYLs9",
        "outputId": "7449c437-68ba-43f1-cbfa-f14f0fd94e23"
      },
      "execution_count": null,
      "outputs": [
        {
          "output_type": "execute_result",
          "data": {
            "text/plain": [
              "[1, 3, 5, 7, 9]"
            ]
          },
          "metadata": {},
          "execution_count": 29
        }
      ]
    },
    {
      "cell_type": "code",
      "source": [
        "for i in range(5,0,-1):\n",
        "  for j in range(i):\n",
        "     print(\"* \",end = ' ')\n",
        "  print()"
      ],
      "metadata": {
        "colab": {
          "base_uri": "https://localhost:8080/"
        },
        "id": "1m1ND2ZSYLxP",
        "outputId": "42e3152f-0ad4-4f98-82a5-c074c6f32aad"
      },
      "execution_count": null,
      "outputs": [
        {
          "output_type": "stream",
          "name": "stdout",
          "text": [
            "*  *  *  *  *  \n",
            "*  *  *  *  \n",
            "*  *  *  \n",
            "*  *  \n",
            "*  \n"
          ]
        }
      ]
    },
    {
      "cell_type": "code",
      "source": [
        "list(range(10,0,-2))"
      ],
      "metadata": {
        "id": "5QHUA8Zm34LO",
        "colab": {
          "base_uri": "https://localhost:8080/"
        },
        "outputId": "0a3e8ab1-ff38-47bb-d416-b1f04ec217d9"
      },
      "execution_count": null,
      "outputs": [
        {
          "output_type": "execute_result",
          "data": {
            "text/plain": [
              "[10, 8, 6, 4, 2]"
            ]
          },
          "metadata": {},
          "execution_count": 40
        }
      ]
    },
    {
      "cell_type": "markdown",
      "source": [
        "## 26_July_2023"
      ],
      "metadata": {
        "id": "HOqEkVQWhhGq"
      }
    },
    {
      "cell_type": "code",
      "source": [
        "# For Loop and While Loop\n",
        "type('Uttam')"
      ],
      "metadata": {
        "colab": {
          "base_uri": "https://localhost:8080/"
        },
        "id": "0SGypgGUhfM_",
        "outputId": "6e01b3b9-36ba-4a6b-e8d1-e7613d156ed7"
      },
      "execution_count": null,
      "outputs": [
        {
          "output_type": "execute_result",
          "data": {
            "text/plain": [
              "str"
            ]
          },
          "metadata": {},
          "execution_count": 3
        }
      ]
    },
    {
      "cell_type": "code",
      "source": [
        "len('Uttam')"
      ],
      "metadata": {
        "colab": {
          "base_uri": "https://localhost:8080/"
        },
        "id": "LL2vNirZhfPh",
        "outputId": "a788b7ac-2ad5-4d47-bf52-79ad2c1f3f52"
      },
      "execution_count": null,
      "outputs": [
        {
          "output_type": "execute_result",
          "data": {
            "text/plain": [
              "5"
            ]
          },
          "metadata": {},
          "execution_count": 4
        }
      ]
    },
    {
      "cell_type": "code",
      "source": [
        "help(list)"
      ],
      "metadata": {
        "colab": {
          "base_uri": "https://localhost:8080/"
        },
        "id": "vnEAUZ9khfR_",
        "outputId": "0a11295e-f48a-410b-a28c-9a1a2ec11ead"
      },
      "execution_count": null,
      "outputs": [
        {
          "output_type": "stream",
          "name": "stdout",
          "text": [
            "Help on class list in module builtins:\n",
            "\n",
            "class list(object)\n",
            " |  list(iterable=(), /)\n",
            " |  \n",
            " |  Built-in mutable sequence.\n",
            " |  \n",
            " |  If no argument is given, the constructor creates a new empty list.\n",
            " |  The argument must be an iterable if specified.\n",
            " |  \n",
            " |  Methods defined here:\n",
            " |  \n",
            " |  __add__(self, value, /)\n",
            " |      Return self+value.\n",
            " |  \n",
            " |  __contains__(self, key, /)\n",
            " |      Return key in self.\n",
            " |  \n",
            " |  __delitem__(self, key, /)\n",
            " |      Delete self[key].\n",
            " |  \n",
            " |  __eq__(self, value, /)\n",
            " |      Return self==value.\n",
            " |  \n",
            " |  __ge__(self, value, /)\n",
            " |      Return self>=value.\n",
            " |  \n",
            " |  __getattribute__(self, name, /)\n",
            " |      Return getattr(self, name).\n",
            " |  \n",
            " |  __getitem__(...)\n",
            " |      x.__getitem__(y) <==> x[y]\n",
            " |  \n",
            " |  __gt__(self, value, /)\n",
            " |      Return self>value.\n",
            " |  \n",
            " |  __iadd__(self, value, /)\n",
            " |      Implement self+=value.\n",
            " |  \n",
            " |  __imul__(self, value, /)\n",
            " |      Implement self*=value.\n",
            " |  \n",
            " |  __init__(self, /, *args, **kwargs)\n",
            " |      Initialize self.  See help(type(self)) for accurate signature.\n",
            " |  \n",
            " |  __iter__(self, /)\n",
            " |      Implement iter(self).\n",
            " |  \n",
            " |  __le__(self, value, /)\n",
            " |      Return self<=value.\n",
            " |  \n",
            " |  __len__(self, /)\n",
            " |      Return len(self).\n",
            " |  \n",
            " |  __lt__(self, value, /)\n",
            " |      Return self<value.\n",
            " |  \n",
            " |  __mul__(self, value, /)\n",
            " |      Return self*value.\n",
            " |  \n",
            " |  __ne__(self, value, /)\n",
            " |      Return self!=value.\n",
            " |  \n",
            " |  __repr__(self, /)\n",
            " |      Return repr(self).\n",
            " |  \n",
            " |  __reversed__(self, /)\n",
            " |      Return a reverse iterator over the list.\n",
            " |  \n",
            " |  __rmul__(self, value, /)\n",
            " |      Return value*self.\n",
            " |  \n",
            " |  __setitem__(self, key, value, /)\n",
            " |      Set self[key] to value.\n",
            " |  \n",
            " |  __sizeof__(self, /)\n",
            " |      Return the size of the list in memory, in bytes.\n",
            " |  \n",
            " |  append(self, object, /)\n",
            " |      Append object to the end of the list.\n",
            " |  \n",
            " |  clear(self, /)\n",
            " |      Remove all items from list.\n",
            " |  \n",
            " |  copy(self, /)\n",
            " |      Return a shallow copy of the list.\n",
            " |  \n",
            " |  count(self, value, /)\n",
            " |      Return number of occurrences of value.\n",
            " |  \n",
            " |  extend(self, iterable, /)\n",
            " |      Extend list by appending elements from the iterable.\n",
            " |  \n",
            " |  index(self, value, start=0, stop=9223372036854775807, /)\n",
            " |      Return first index of value.\n",
            " |      \n",
            " |      Raises ValueError if the value is not present.\n",
            " |  \n",
            " |  insert(self, index, object, /)\n",
            " |      Insert object before index.\n",
            " |  \n",
            " |  pop(self, index=-1, /)\n",
            " |      Remove and return item at index (default last).\n",
            " |      \n",
            " |      Raises IndexError if list is empty or index is out of range.\n",
            " |  \n",
            " |  remove(self, value, /)\n",
            " |      Remove first occurrence of value.\n",
            " |      \n",
            " |      Raises ValueError if the value is not present.\n",
            " |  \n",
            " |  reverse(self, /)\n",
            " |      Reverse *IN PLACE*.\n",
            " |  \n",
            " |  sort(self, /, *, key=None, reverse=False)\n",
            " |      Sort the list in ascending order and return None.\n",
            " |      \n",
            " |      The sort is in-place (i.e. the list itself is modified) and stable (i.e. the\n",
            " |      order of two equal elements is maintained).\n",
            " |      \n",
            " |      If a key function is given, apply it once to each list item and sort them,\n",
            " |      ascending or descending, according to their function values.\n",
            " |      \n",
            " |      The reverse flag can be set to sort in descending order.\n",
            " |  \n",
            " |  ----------------------------------------------------------------------\n",
            " |  Class methods defined here:\n",
            " |  \n",
            " |  __class_getitem__(...) from builtins.type\n",
            " |      See PEP 585\n",
            " |  \n",
            " |  ----------------------------------------------------------------------\n",
            " |  Static methods defined here:\n",
            " |  \n",
            " |  __new__(*args, **kwargs) from builtins.type\n",
            " |      Create and return a new object.  See help(type) for accurate signature.\n",
            " |  \n",
            " |  ----------------------------------------------------------------------\n",
            " |  Data and other attributes defined here:\n",
            " |  \n",
            " |  __hash__ = None\n",
            "\n"
          ]
        }
      ]
    },
    {
      "cell_type": "code",
      "source": [
        "# NEsted For Loop ( loop inside a Loop)\n",
        "\n",
        "for i in range(1,5):\n",
        "  for j in range(5,10):\n",
        "    print(j)\n",
        "  print(i)"
      ],
      "metadata": {
        "colab": {
          "base_uri": "https://localhost:8080/"
        },
        "id": "jHhQozC1hfU8",
        "outputId": "0b1edbb9-0a68-43e3-f08f-9a1215e157a6"
      },
      "execution_count": null,
      "outputs": [
        {
          "output_type": "stream",
          "name": "stdout",
          "text": [
            "5\n",
            "6\n",
            "7\n",
            "8\n",
            "9\n",
            "1\n",
            "5\n",
            "6\n",
            "7\n",
            "8\n",
            "9\n",
            "2\n",
            "5\n",
            "6\n",
            "7\n",
            "8\n",
            "9\n",
            "3\n",
            "5\n",
            "6\n",
            "7\n",
            "8\n",
            "9\n",
            "4\n"
          ]
        }
      ]
    },
    {
      "cell_type": "code",
      "source": [
        "# 1\n",
        "# 2  4\n",
        "# 3  6  9\n",
        "# 4  8  12  16\n",
        "# 5  10  15  20  25\n",
        "# 6  12  18  24  30  36\n",
        "# 7  14  21  28  35  42  49\n",
        "# 8  16  24  32  40  48  56  64"
      ],
      "metadata": {
        "id": "TOwp8elQhfXg"
      },
      "execution_count": null,
      "outputs": []
    },
    {
      "cell_type": "code",
      "source": [
        "for i in range(1):\n",
        "  print(i)"
      ],
      "metadata": {
        "colab": {
          "base_uri": "https://localhost:8080/"
        },
        "id": "2dDUC6kDhfab",
        "outputId": "bcb45711-4a19-4c49-b9bc-edbc65947ffa"
      },
      "execution_count": null,
      "outputs": [
        {
          "output_type": "stream",
          "name": "stdout",
          "text": [
            "0\n"
          ]
        }
      ]
    },
    {
      "cell_type": "code",
      "source": [],
      "metadata": {
        "id": "7Kjcmxy9hfdS"
      },
      "execution_count": null,
      "outputs": []
    },
    {
      "cell_type": "code",
      "source": [
        "#         *\n",
        "#       * * *\n",
        "#     * * * * *\n",
        "#   * * * * * * *\n",
        "# * * * * * * * * *\n",
        "\n",
        "rows = 5\n",
        "for i in range(rows):\n",
        "    for j in range(rows - i - 1):\n",
        "        print(\" \", end=\"\")\n",
        "    for k in range(i + 1):\n",
        "        print(\"*\", end=\"\")\n",
        "    print()"
      ],
      "metadata": {
        "colab": {
          "base_uri": "https://localhost:8080/"
        },
        "id": "tOG7xKgThfgP",
        "outputId": "f7a04f2b-b092-4897-dfeb-5088809aaae7"
      },
      "execution_count": null,
      "outputs": [
        {
          "output_type": "stream",
          "name": "stdout",
          "text": [
            "    *\n",
            "   **\n",
            "  ***\n",
            " ****\n",
            "*****\n"
          ]
        }
      ]
    },
    {
      "cell_type": "code",
      "source": [
        "rows = 5\n",
        "for i in range(rows):\n",
        "    for j in range(rows -i - 1):\n",
        "        print(' ', end = '')\n",
        "    for k in range(i +i +1):\n",
        "            print('*',end = '')\n",
        "    print()"
      ],
      "metadata": {
        "colab": {
          "base_uri": "https://localhost:8080/"
        },
        "id": "eb4HwOG0hfi0",
        "outputId": "69fd4033-2e0f-47c9-8eb0-818b4419fed0"
      },
      "execution_count": null,
      "outputs": [
        {
          "output_type": "stream",
          "name": "stdout",
          "text": [
            "    *\n",
            "   ***\n",
            "  *****\n",
            " *******\n",
            "*********\n"
          ]
        }
      ]
    },
    {
      "cell_type": "code",
      "source": [
        "# * * * * * * * * *\n",
        "#   * * * * * * *\n",
        "#     * * * * *\n",
        "#       * * *\n",
        "#         *"
      ],
      "metadata": {
        "id": "yYwwLr-ahfl_"
      },
      "execution_count": null,
      "outputs": []
    },
    {
      "cell_type": "code",
      "source": [
        "for i in range(7,0,-1):\n",
        "    for j in range(i-1):\n",
        "       print(\"\",end=\" \")\n",
        "    for k in range(i-1):\n",
        "      print(\"* \",end = \" \")\n",
        "    print()"
      ],
      "metadata": {
        "colab": {
          "base_uri": "https://localhost:8080/"
        },
        "id": "6XYZBmi3hfpF",
        "outputId": "6b61953e-0646-40df-e78e-adcad28ebdb6"
      },
      "execution_count": null,
      "outputs": [
        {
          "output_type": "stream",
          "name": "stdout",
          "text": [
            "      *  *  *  *  *  *  \n",
            "     *  *  *  *  *  \n",
            "    *  *  *  *  \n",
            "   *  *  *  \n",
            "  *  *  \n",
            " *  \n",
            "\n"
          ]
        }
      ]
    },
    {
      "cell_type": "code",
      "source": [
        "n = 7\n",
        "for i in range(n, 0, -1):\n",
        "    for j in range(0, n-i):\n",
        "        print(end=\" \")\n",
        "\n",
        "    for j in range(0, i):\n",
        "        print(\"*\", end=\" \")\n",
        "    print()\n"
      ],
      "metadata": {
        "colab": {
          "base_uri": "https://localhost:8080/"
        },
        "id": "rGjJitaqhf4q",
        "outputId": "01ebd722-9013-4d61-f40f-ad7e5240d8dd"
      },
      "execution_count": null,
      "outputs": [
        {
          "output_type": "stream",
          "name": "stdout",
          "text": [
            "* * * * * * * \n",
            " * * * * * * \n",
            "  * * * * * \n",
            "   * * * * \n",
            "    * * * \n",
            "     * * \n",
            "      * \n"
          ]
        }
      ]
    },
    {
      "cell_type": "code",
      "source": [
        "rows=5\n",
        "for i in range(rows):\n",
        "    for j in range(rows-i-0):\n",
        "        print ('*', end='')\n",
        "    for k in range(i-i+5):\n",
        "        print (' ', end='')\n",
        "    print()"
      ],
      "metadata": {
        "colab": {
          "base_uri": "https://localhost:8080/"
        },
        "id": "3_Mui1nGhf7k",
        "outputId": "5bacd9ec-c50c-439c-ce5c-cdfbbf1dae17"
      },
      "execution_count": null,
      "outputs": [
        {
          "output_type": "stream",
          "name": "stdout",
          "text": [
            "*****     \n",
            "****     \n",
            "***     \n",
            "**     \n",
            "*     \n"
          ]
        }
      ]
    },
    {
      "cell_type": "markdown",
      "source": [
        "## 27_July_2023"
      ],
      "metadata": {
        "id": "cyx35pp6ygQG"
      }
    },
    {
      "cell_type": "code",
      "source": [
        "# While\n",
        "i = 0\n",
        "\n",
        "while i < 3:\n",
        "  i = i + 1\n",
        "  print('Hello Uttam')"
      ],
      "metadata": {
        "id": "JKI4DoRmhf-M",
        "colab": {
          "base_uri": "https://localhost:8080/"
        },
        "outputId": "a830cbcf-562c-4c46-ecac-e8c5fd827460"
      },
      "execution_count": null,
      "outputs": [
        {
          "output_type": "stream",
          "name": "stdout",
          "text": [
            "Hello Uttam\n",
            "Hello Uttam\n",
            "Hello Uttam\n"
          ]
        }
      ]
    },
    {
      "cell_type": "code",
      "source": [
        "i = 0\n",
        "\n",
        "while i < 5:\n",
        "\n",
        "  i = i  + 1\n",
        "\n",
        "  print('Babith!!')"
      ],
      "metadata": {
        "colab": {
          "base_uri": "https://localhost:8080/"
        },
        "id": "KGtj9UM-ydyK",
        "outputId": "00eb0a84-ecc2-4d7e-e6e2-7353cbeb3948"
      },
      "execution_count": null,
      "outputs": [
        {
          "output_type": "stream",
          "name": "stdout",
          "text": [
            "Babith!!\n",
            "Babith!!\n",
            "Babith!!\n",
            "Babith!!\n",
            "Babith!!\n"
          ]
        }
      ]
    },
    {
      "cell_type": "code",
      "source": [
        "x = [1,2]\n",
        "y = [4,5]\n",
        "i = 0\n",
        "while i < len(x):\n",
        "\n",
        "  j = 0\n",
        "  while j < len(y):\n",
        "    print(x[i], y[j])\n",
        "    j = j + 1\n",
        "  i = i + 1"
      ],
      "metadata": {
        "id": "nqfDhN6Pyd1D"
      },
      "execution_count": null,
      "outputs": []
    },
    {
      "cell_type": "code",
      "source": [
        "x[1]"
      ],
      "metadata": {
        "colab": {
          "base_uri": "https://localhost:8080/"
        },
        "id": "RBG1A-QDyd3p",
        "outputId": "048ba9c9-6d84-4b41-e6ca-f151352d0028"
      },
      "execution_count": null,
      "outputs": [
        {
          "output_type": "execute_result",
          "data": {
            "text/plain": [
              "2"
            ]
          },
          "metadata": {},
          "execution_count": 8
        }
      ]
    },
    {
      "cell_type": "code",
      "source": [
        "# indexing ( starts from 0)\n",
        "c = ['Uttam', 'edyoda', 'aditi']\n",
        "c[2]"
      ],
      "metadata": {
        "colab": {
          "base_uri": "https://localhost:8080/",
          "height": 36
        },
        "id": "_dnfymEjyd6Q",
        "outputId": "6fd08d11-a069-4181-cd4b-a4ebaf2490ca"
      },
      "execution_count": null,
      "outputs": [
        {
          "output_type": "execute_result",
          "data": {
            "text/plain": [
              "'aditi'"
            ],
            "application/vnd.google.colaboratory.intrinsic+json": {
              "type": "string"
            }
          },
          "metadata": {},
          "execution_count": 12
        }
      ]
    },
    {
      "cell_type": "code",
      "source": [
        "i = 1\n",
        "\n",
        "while i < 2:\n",
        "  j = 1\n",
        "  while j <= i:\n",
        "    print('*', end = ' ')\n",
        "    j = j + 1\n",
        "  print('')\n",
        "  i = i + 1"
      ],
      "metadata": {
        "colab": {
          "base_uri": "https://localhost:8080/"
        },
        "id": "UlO4rGVEyd8n",
        "outputId": "8abbe93f-17b2-425a-9cb0-b7fbfccd95bd"
      },
      "execution_count": null,
      "outputs": [
        {
          "output_type": "stream",
          "name": "stdout",
          "text": [
            "* \n"
          ]
        }
      ]
    },
    {
      "cell_type": "code",
      "source": [
        "#  print the first 10 numbers on each line 5 times.\n",
        "\n",
        "# 12345678910\n",
        "# 12345678910\n",
        "# 12345678910\n",
        "# 12345678910\n",
        "# 12345678910"
      ],
      "metadata": {
        "id": "DE2YzYaIyd_U"
      },
      "execution_count": null,
      "outputs": []
    },
    {
      "cell_type": "code",
      "source": [
        "i=1\n",
        "while i<=5:\n",
        "  j=1\n",
        "  while j<=10:\n",
        "    print(j,end=' ')\n",
        "    j+=1\n",
        "  print()\n",
        "  i+=1\n",
        "print('')"
      ],
      "metadata": {
        "colab": {
          "base_uri": "https://localhost:8080/"
        },
        "id": "Rz8ngiVfyeC1",
        "outputId": "1d6e4088-c645-4d63-9bce-5467db2d02cf"
      },
      "execution_count": null,
      "outputs": [
        {
          "output_type": "stream",
          "name": "stdout",
          "text": [
            "1 2 3 4 5 6 7 8 9 10 \n",
            "1 2 3 4 5 6 7 8 9 10 \n",
            "1 2 3 4 5 6 7 8 9 10 \n",
            "1 2 3 4 5 6 7 8 9 10 \n",
            "1 2 3 4 5 6 7 8 9 10 \n",
            "\n"
          ]
        }
      ]
    },
    {
      "cell_type": "code",
      "source": [
        "a = 0\n",
        "\n",
        "while a < 10:\n",
        "    print('12345678910')\n",
        "    a =a+ 1"
      ],
      "metadata": {
        "colab": {
          "base_uri": "https://localhost:8080/"
        },
        "id": "oeHF_3u9yeFs",
        "outputId": "c9f4b342-da20-4183-8c4a-4b550025281e"
      },
      "execution_count": null,
      "outputs": [
        {
          "output_type": "stream",
          "name": "stdout",
          "text": [
            "12345678910\n",
            "12345678910\n",
            "12345678910\n",
            "12345678910\n",
            "12345678910\n",
            "12345678910\n",
            "12345678910\n",
            "12345678910\n",
            "12345678910\n",
            "12345678910\n"
          ]
        }
      ]
    },
    {
      "cell_type": "code",
      "source": [
        "# continue, pass, break\n",
        "# break ( Stop )"
      ],
      "metadata": {
        "id": "FvlITV-zyeJF"
      },
      "execution_count": null,
      "outputs": []
    },
    {
      "cell_type": "code",
      "source": [
        "for i in range(1,10):\n",
        "  if i < 7:\n",
        "    print(i)\n",
        "  else:\n",
        "    break"
      ],
      "metadata": {
        "colab": {
          "base_uri": "https://localhost:8080/"
        },
        "id": "3RFYqjV4yeMW",
        "outputId": "b2e4eb87-d2a9-4437-9d3d-ffd1a6f72db1"
      },
      "execution_count": null,
      "outputs": [
        {
          "output_type": "stream",
          "name": "stdout",
          "text": [
            "1\n",
            "2\n",
            "3\n",
            "4\n",
            "5\n",
            "6\n"
          ]
        }
      ]
    },
    {
      "cell_type": "code",
      "source": [
        "n = [2,4,5,6,7, 11, 13, 9]\n",
        "\n",
        "for i in n:\n",
        "  print('Current Value is i-->', i)\n",
        "\n",
        "  if i > 10:\n",
        "    continue # skip the iteration\n",
        "  square = i * i\n",
        "  print('Square,--->', square)"
      ],
      "metadata": {
        "colab": {
          "base_uri": "https://localhost:8080/"
        },
        "id": "ock6Bua7yeO8",
        "outputId": "16717b7d-d499-4bde-a410-a703d9cc0a54"
      },
      "execution_count": null,
      "outputs": [
        {
          "output_type": "stream",
          "name": "stdout",
          "text": [
            "Current Value is i--> 2\n",
            "Square,---> 4\n",
            "Current Value is i--> 4\n",
            "Square,---> 16\n",
            "Current Value is i--> 5\n",
            "Square,---> 25\n",
            "Current Value is i--> 6\n",
            "Square,---> 36\n",
            "Current Value is i--> 7\n",
            "Square,---> 49\n",
            "Current Value is i--> 11\n",
            "Current Value is i--> 13\n",
            "Current Value is i--> 9\n",
            "Square,---> 81\n"
          ]
        }
      ]
    },
    {
      "cell_type": "code",
      "source": [
        "# ***\n",
        "# ***\n",
        "# ***\n",
        "# ***\n",
        "# ***\n"
      ],
      "metadata": {
        "id": "3PB2LIobyeR2"
      },
      "execution_count": null,
      "outputs": []
    },
    {
      "cell_type": "code",
      "source": [
        "i=0\n",
        "while i<=3:\n",
        "  j=1\n",
        "  while j<=3:\n",
        "    print('*',end=' ')\n",
        "    j+=1\n",
        "  print(' ')\n",
        "  i+=1\n",
        "print()"
      ],
      "metadata": {
        "colab": {
          "base_uri": "https://localhost:8080/"
        },
        "id": "7wnKuw8oyeUQ",
        "outputId": "18401ab2-cf88-403b-aac2-7f9a5436232c"
      },
      "execution_count": null,
      "outputs": [
        {
          "output_type": "stream",
          "name": "stdout",
          "text": [
            "* * *  \n",
            "* * *  \n",
            "* * *  \n",
            "* * *  \n",
            "\n"
          ]
        }
      ]
    },
    {
      "cell_type": "code",
      "source": [
        "# Square of: 1 is: 1\n",
        "# Square of: 2 is: 4\n",
        "# Square of: 3 is: 9\n",
        "# Square of: 4 is: 16\n",
        "# Square of: 5 is: 25"
      ],
      "metadata": {
        "id": "JDu1CHBtyeXW"
      },
      "execution_count": null,
      "outputs": []
    },
    {
      "cell_type": "code",
      "source": [
        "n = [1,2,3,4,5]\n",
        "\n",
        "for i in n:\n",
        "  if i > 26:\n",
        "    continue\n",
        "  square = i * i\n",
        "  print('Square is', square)"
      ],
      "metadata": {
        "colab": {
          "base_uri": "https://localhost:8080/"
        },
        "id": "FPXk3lURyeaS",
        "outputId": "c2a8564b-7936-4f94-b3a0-9cdb5822f6d1"
      },
      "execution_count": null,
      "outputs": [
        {
          "output_type": "stream",
          "name": "stdout",
          "text": [
            "Square is 1\n",
            "Square is 4\n",
            "Square is 9\n",
            "Square is 16\n",
            "Square is 25\n"
          ]
        }
      ]
    },
    {
      "cell_type": "markdown",
      "source": [
        "## 28_July_2023"
      ],
      "metadata": {
        "id": "SeGBTHV41A2U"
      }
    },
    {
      "cell_type": "code",
      "source": [
        "# Quiz and assignment discussion\n",
        "# Loops Practise\n",
        "# Summaize what ever we have done!!"
      ],
      "metadata": {
        "id": "3vGlhzAx0D1I"
      },
      "execution_count": null,
      "outputs": []
    },
    {
      "cell_type": "code",
      "source": [
        "# what is python\n",
        "# what type of programming laguage it is\n",
        "# why to use python\n",
        "\n",
        "### Data Types ####\n",
        "# Int --- 4,6,6,7\n",
        "# str --- 'a','b', \"c\"\n",
        "# float --- 45.3\n",
        "# complex = a + ib\n",
        "# bool ---- True, False\n",
        "\n",
        "\n"
      ],
      "metadata": {
        "id": "CEkK0Mnz0D5H"
      },
      "execution_count": null,
      "outputs": []
    },
    {
      "cell_type": "code",
      "source": [
        "###### Variables  ############\n",
        "a = 'uttam'\n",
        "uttam123 = '3838'"
      ],
      "metadata": {
        "id": "vxUtjAMi0D_h"
      },
      "execution_count": null,
      "outputs": []
    },
    {
      "cell_type": "code",
      "source": [
        "uttam_354 = 'uttam'"
      ],
      "metadata": {
        "id": "FZCnBgdl0EFQ"
      },
      "execution_count": null,
      "outputs": []
    },
    {
      "cell_type": "code",
      "source": [
        "# memory management\n",
        "# stack (temporary)\n",
        "# heap # (permanet)"
      ],
      "metadata": {
        "id": "PI3msQ6n0EIE"
      },
      "execution_count": null,
      "outputs": []
    },
    {
      "cell_type": "code",
      "source": [
        "a  = 10\n",
        "a = 20\n",
        "a"
      ],
      "metadata": {
        "colab": {
          "base_uri": "https://localhost:8080/"
        },
        "id": "4sgtoFZQ0ELx",
        "outputId": "77c7c459-e69a-44f0-d645-e37accac781d"
      },
      "execution_count": null,
      "outputs": [
        {
          "output_type": "execute_result",
          "data": {
            "text/plain": [
              "20"
            ]
          },
          "metadata": {},
          "execution_count": 10
        }
      ]
    },
    {
      "cell_type": "code",
      "source": [
        "id(a)"
      ],
      "metadata": {
        "colab": {
          "base_uri": "https://localhost:8080/"
        },
        "id": "mXGXWUpu0EPP",
        "outputId": "a35145b0-45f4-4226-9f01-b50a27e70a2f"
      },
      "execution_count": null,
      "outputs": [
        {
          "output_type": "execute_result",
          "data": {
            "text/plain": [
              "133416301069136"
            ]
          },
          "metadata": {},
          "execution_count": 11
        }
      ]
    },
    {
      "cell_type": "code",
      "source": [
        "b = [1,2,3]\n",
        "id(b) # immutable(Cannot change, edit , add, remove)"
      ],
      "metadata": {
        "colab": {
          "base_uri": "https://localhost:8080/"
        },
        "id": "rW25yf1K0ER-",
        "outputId": "cc7d017e-1aca-4ebd-fd23-7b6412ac271f"
      },
      "execution_count": null,
      "outputs": [
        {
          "output_type": "execute_result",
          "data": {
            "text/plain": [
              "133415040270848"
            ]
          },
          "metadata": {},
          "execution_count": 12
        }
      ]
    },
    {
      "cell_type": "code",
      "source": [
        "b.append(10) # add"
      ],
      "metadata": {
        "id": "-VN52HQj0EVt"
      },
      "execution_count": null,
      "outputs": []
    },
    {
      "cell_type": "code",
      "source": [
        "b"
      ],
      "metadata": {
        "colab": {
          "base_uri": "https://localhost:8080/"
        },
        "id": "NssdbJS80EcB",
        "outputId": "b8c5914f-0972-407a-a790-54d8834b8a94"
      },
      "execution_count": null,
      "outputs": [
        {
          "output_type": "execute_result",
          "data": {
            "text/plain": [
              "[1, 2, 3, 10]"
            ]
          },
          "metadata": {},
          "execution_count": 14
        }
      ]
    },
    {
      "cell_type": "code",
      "source": [
        "id(b)"
      ],
      "metadata": {
        "colab": {
          "base_uri": "https://localhost:8080/"
        },
        "id": "WyjIy3-A0Ei1",
        "outputId": "d244fa9e-63b3-4426-c609-429fd9f53119"
      },
      "execution_count": null,
      "outputs": [
        {
          "output_type": "execute_result",
          "data": {
            "text/plain": [
              "133415040270848"
            ]
          },
          "metadata": {},
          "execution_count": 15
        }
      ]
    },
    {
      "cell_type": "code",
      "source": [
        "# Mutable ( which I can change)\n",
        "# immutable ( which I cannot change)"
      ],
      "metadata": {
        "id": "vMSQ-35s0B87"
      },
      "execution_count": null,
      "outputs": []
    },
    {
      "cell_type": "code",
      "source": [
        "# Conversion\n",
        "\n",
        "c = '12' # \"\"\n",
        "type(c)"
      ],
      "metadata": {
        "colab": {
          "base_uri": "https://localhost:8080/"
        },
        "id": "WPdbe2Sv0CDY",
        "outputId": "cb578cce-4955-4805-8750-b874a5db4dd6"
      },
      "execution_count": null,
      "outputs": [
        {
          "output_type": "execute_result",
          "data": {
            "text/plain": [
              "str"
            ]
          },
          "metadata": {},
          "execution_count": 16
        }
      ]
    },
    {
      "cell_type": "code",
      "source": [
        "d = float(c)\n",
        "type(d)"
      ],
      "metadata": {
        "colab": {
          "base_uri": "https://localhost:8080/"
        },
        "id": "PjJfZAmV0CKQ",
        "outputId": "0735350a-0e9a-494d-db32-f5f4237e7b2e"
      },
      "execution_count": null,
      "outputs": [
        {
          "output_type": "execute_result",
          "data": {
            "text/plain": [
              "float"
            ]
          },
          "metadata": {},
          "execution_count": 18
        }
      ]
    },
    {
      "cell_type": "code",
      "source": [
        "g = 'Uttam'\n",
        "int(g)"
      ],
      "metadata": {
        "colab": {
          "base_uri": "https://localhost:8080/",
          "height": 182
        },
        "id": "ovmSeh-Y0COO",
        "outputId": "e8fb2f5c-e4c1-4d13-d264-8b4a01154a5a"
      },
      "execution_count": null,
      "outputs": [
        {
          "output_type": "error",
          "ename": "ValueError",
          "evalue": "ignored",
          "traceback": [
            "\u001b[0;31m---------------------------------------------------------------------------\u001b[0m",
            "\u001b[0;31mValueError\u001b[0m                                Traceback (most recent call last)",
            "\u001b[0;32m<ipython-input-19-379978c6c7af>\u001b[0m in \u001b[0;36m<cell line: 2>\u001b[0;34m()\u001b[0m\n\u001b[1;32m      1\u001b[0m \u001b[0mg\u001b[0m \u001b[0;34m=\u001b[0m \u001b[0;34m'Uttam'\u001b[0m\u001b[0;34m\u001b[0m\u001b[0;34m\u001b[0m\u001b[0m\n\u001b[0;32m----> 2\u001b[0;31m \u001b[0mint\u001b[0m\u001b[0;34m(\u001b[0m\u001b[0mg\u001b[0m\u001b[0;34m)\u001b[0m\u001b[0;34m\u001b[0m\u001b[0;34m\u001b[0m\u001b[0m\n\u001b[0m",
            "\u001b[0;31mValueError\u001b[0m: invalid literal for int() with base 10: 'Uttam'"
          ]
        }
      ]
    },
    {
      "cell_type": "code",
      "source": [
        "# Conditional Statements\n",
        "# if - else (only 2 condition)\n",
        "# if - elif - else(more than 2 conditions)\n",
        "\n"
      ],
      "metadata": {
        "id": "zdv7pskcyedw"
      },
      "execution_count": null,
      "outputs": []
    },
    {
      "cell_type": "code",
      "source": [
        "a = 10\n",
        "\n",
        "if a == 100:\n",
        "  print('Hurray')\n",
        "\n",
        "elif a == 15:\n",
        "  print('It is 15')\n",
        "elif a == 10:\n",
        "  print('YEs it is 10')\n",
        "else:\n",
        "  print('Edyoda')"
      ],
      "metadata": {
        "id": "Qs5qwntAyegS",
        "colab": {
          "base_uri": "https://localhost:8080/"
        },
        "outputId": "3f5fe30e-bfc9-41d3-922a-5144a7f080b9"
      },
      "execution_count": null,
      "outputs": [
        {
          "output_type": "stream",
          "name": "stdout",
          "text": [
            "YEs it is 10\n"
          ]
        }
      ]
    },
    {
      "cell_type": "code",
      "source": [
        "a = int(input('Enter the number'))\n",
        "\n",
        "if a == 100:\n",
        "  print('Hurray')\n",
        "\n",
        "elif a == 15:\n",
        "  print('It is 15')\n",
        "elif a == 10:\n",
        "  print('YEs it is 10')\n",
        "else:\n",
        "  print('Edyoda')"
      ],
      "metadata": {
        "id": "5ZaPjR6dyeja",
        "colab": {
          "base_uri": "https://localhost:8080/"
        },
        "outputId": "834b0ac7-522c-4586-ddf6-090e289aac44"
      },
      "execution_count": null,
      "outputs": [
        {
          "output_type": "stream",
          "name": "stdout",
          "text": [
            "Enter the number10\n",
            "YEs it is 10\n"
          ]
        }
      ]
    },
    {
      "cell_type": "code",
      "source": [
        "# Loops (repeat /again, )\n",
        "# For (finite), While(infinite)\n"
      ],
      "metadata": {
        "id": "JKb3X7yAyemc"
      },
      "execution_count": null,
      "outputs": []
    },
    {
      "cell_type": "code",
      "source": [
        "for i in range(1,10):\n",
        "  print(i)"
      ],
      "metadata": {
        "id": "JksXOMkGyepl",
        "colab": {
          "base_uri": "https://localhost:8080/"
        },
        "outputId": "604e5631-5a55-473f-ed44-f3ecaadf37af"
      },
      "execution_count": null,
      "outputs": [
        {
          "output_type": "stream",
          "name": "stdout",
          "text": [
            "1\n",
            "2\n",
            "3\n",
            "4\n",
            "5\n",
            "6\n",
            "7\n",
            "8\n",
            "9\n"
          ]
        }
      ]
    },
    {
      "cell_type": "code",
      "source": [
        "i = 0\n",
        "while i < 10:\n",
        "  print('Edyoda')\n",
        "  i = i + 2"
      ],
      "metadata": {
        "id": "XkaP0KsMyesO",
        "colab": {
          "base_uri": "https://localhost:8080/"
        },
        "outputId": "0d47bff7-e6e4-4f04-d8af-d92481804c74"
      },
      "execution_count": null,
      "outputs": [
        {
          "output_type": "stream",
          "name": "stdout",
          "text": [
            "Edyoda\n",
            "Edyoda\n",
            "Edyoda\n",
            "Edyoda\n",
            "Edyoda\n"
          ]
        }
      ]
    },
    {
      "cell_type": "code",
      "source": [
        "list(range(1,100, k))"
      ],
      "metadata": {
        "colab": {
          "base_uri": "https://localhost:8080/"
        },
        "id": "js7tsM_97TfD",
        "outputId": "56c66de7-e1f3-4be6-b975-88d54b757ebe"
      },
      "execution_count": null,
      "outputs": [
        {
          "output_type": "execute_result",
          "data": {
            "text/plain": [
              "[1, 6, 11, 16, 21, 26, 31, 36, 41, 46, 51, 56, 61, 66, 71, 76, 81, 86, 91, 96]"
            ]
          },
          "metadata": {},
          "execution_count": 30
        }
      ]
    },
    {
      "cell_type": "code",
      "source": [
        "list(range(1,10,1))"
      ],
      "metadata": {
        "colab": {
          "base_uri": "https://localhost:8080/"
        },
        "id": "PscPyhjP7Ti1",
        "outputId": "68829327-2b13-4184-aecd-57331af32ccc"
      },
      "execution_count": null,
      "outputs": [
        {
          "output_type": "execute_result",
          "data": {
            "text/plain": [
              "[1, 2, 3, 4, 5, 6, 7, 8, 9]"
            ]
          },
          "metadata": {},
          "execution_count": 33
        }
      ]
    },
    {
      "cell_type": "code",
      "source": [
        "list(range(10,1,-1))"
      ],
      "metadata": {
        "colab": {
          "base_uri": "https://localhost:8080/"
        },
        "id": "z1TdgX2y7Tn4",
        "outputId": "dff4b7d1-9402-4140-bbb2-91cd390e78cf"
      },
      "execution_count": null,
      "outputs": [
        {
          "output_type": "execute_result",
          "data": {
            "text/plain": [
              "[10, 9, 8, 7, 6, 5, 4, 3, 2]"
            ]
          },
          "metadata": {},
          "execution_count": 34
        }
      ]
    },
    {
      "cell_type": "code",
      "source": [
        "rows = 5\n",
        "for i in range(rows):\n",
        "    for j in range(rows -i - 1):\n",
        "        print(' ', end = '')\n",
        "    for k in range(i +i +1):\n",
        "            print('*',end = '')\n",
        "    print()"
      ],
      "metadata": {
        "colab": {
          "base_uri": "https://localhost:8080/"
        },
        "id": "UNEcBg_O7TrU",
        "outputId": "f6570c69-e6ca-48bb-ce69-a75056af92a2"
      },
      "execution_count": null,
      "outputs": [
        {
          "output_type": "stream",
          "name": "stdout",
          "text": [
            "    *\n",
            "   ***\n",
            "  *****\n",
            " *******\n",
            "*********\n"
          ]
        }
      ]
    },
    {
      "cell_type": "code",
      "source": [
        "# *\n",
        "# * *\n",
        "# * * *\n",
        "# * * * *\n",
        "# * * * * *\n",
        "# * * * *\n",
        "# * * *\n",
        "# * *\n",
        "# *\n"
      ],
      "metadata": {
        "id": "2ahCKeyT7TwK"
      },
      "execution_count": null,
      "outputs": []
    },
    {
      "cell_type": "code",
      "source": [
        "#   ***\n",
        "#  *   *\n",
        "#  *   *\n",
        "#  *****\n",
        "#  *   *\n",
        "#  *   *\n",
        "#  *   *"
      ],
      "metadata": {
        "id": "KN5wXlMb7T0X"
      },
      "execution_count": null,
      "outputs": []
    },
    {
      "cell_type": "code",
      "source": [
        "r = ''\n",
        "for row in range(0,7):\n",
        "  for column in range(0,7):\n",
        "    if ((column == 1 or column == 5) or (row == 0 or row == 3)):\n",
        "      r = r + '*'\n",
        "    else:\n",
        "      r = r + ' '\n",
        "  r = r + '\\n' # new line\n",
        "print(r)\n"
      ],
      "metadata": {
        "colab": {
          "base_uri": "https://localhost:8080/"
        },
        "id": "UAZ47SY87T4U",
        "outputId": "2b1d42af-c68f-4fb7-b3e9-ee0563f2726e"
      },
      "execution_count": null,
      "outputs": [
        {
          "output_type": "stream",
          "name": "stdout",
          "text": [
            "*******\n",
            " *   * \n",
            " *   * \n",
            "*******\n",
            " *   * \n",
            " *   * \n",
            " *   * \n",
            "\n"
          ]
        }
      ]
    },
    {
      "cell_type": "code",
      "source": [
        "# Write the First Capital letter of your name (Home Work!!!)"
      ],
      "metadata": {
        "id": "GgGxVvAW7T8S"
      },
      "execution_count": null,
      "outputs": []
    },
    {
      "cell_type": "code",
      "source": [],
      "metadata": {
        "id": "JM-fXm0T7UAp"
      },
      "execution_count": null,
      "outputs": []
    },
    {
      "cell_type": "code",
      "source": [],
      "metadata": {
        "id": "O0Nk9EFyhgBO"
      },
      "execution_count": null,
      "outputs": []
    },
    {
      "cell_type": "code",
      "source": [],
      "metadata": {
        "id": "LrwateIyhgEI"
      },
      "execution_count": null,
      "outputs": []
    },
    {
      "cell_type": "code",
      "source": [],
      "metadata": {
        "id": "u7sHe2xo34QB"
      },
      "execution_count": null,
      "outputs": []
    }
  ]
}